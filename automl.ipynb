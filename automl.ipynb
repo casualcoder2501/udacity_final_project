{
  "cells": [
    {
      "cell_type": "markdown",
      "source": [
        "# Automated ML\n",
        "\n",
        "TODO: Import Dependencies. In the cell below, import all the dependencies that you will need to complete the project."
      ],
      "metadata": {}
    },
    {
      "cell_type": "code",
      "source": [
        "from azureml.core import Workspace, Experiment\r\n",
        "from azureml.train.automl import AutoMLConfig\r\n",
        "from azureml.core import Dataset\r\n",
        "import pandas as pd"
      ],
      "outputs": [],
      "execution_count": 1,
      "metadata": {
        "gather": {
          "logged": 1632348716199
        },
        "jupyter": {
          "outputs_hidden": false,
          "source_hidden": false
        },
        "nteract": {
          "transient": {
            "deleting": false
          }
        }
      }
    },
    {
      "cell_type": "markdown",
      "source": [
        "## Dataset\n",
        "\n",
        "### Overview\n",
        "TODO: In this markdown cell, give an overview of the dataset you are using. Also mention the task you will be performing.\n",
        "\n",
        "\n",
        "TODO: Get data. In the cell below, write code to access the data you will be using in this project. Remember that the dataset needs to be external."
      ],
      "metadata": {}
    },
    {
      "cell_type": "code",
      "source": [
        "ws = Workspace.from_config()\n",
        "\n",
        "# choose a name for experiment\n",
        "experiment_name = 'heart_automl'\n",
        "\n",
        "experiment=Experiment(ws, experiment_name)"
      ],
      "outputs": [],
      "execution_count": 2,
      "metadata": {
        "gather": {
          "logged": 1632348726260
        },
        "jupyter": {
          "outputs_hidden": false,
          "source_hidden": false
        },
        "nteract": {
          "transient": {
            "deleting": false
          }
        }
      }
    },
    {
      "cell_type": "code",
      "source": [
        "from azureml.core.compute import ComputeTarget, AmlCompute\r\n",
        "\r\n",
        "\r\n",
        "compute_target = ComputeTarget(workspace=ws, name=\"ds11v2-cluster\")\r\n",
        "compute_target.wait_for_completion(show_output=True)"
      ],
      "outputs": [
        {
          "output_type": "stream",
          "name": "stdout",
          "text": "Succeeded\nAmlCompute wait for completion finished\n\nMinimum number of nodes requested have been provisioned\n"
        }
      ],
      "execution_count": 13,
      "metadata": {
        "jupyter": {
          "source_hidden": false,
          "outputs_hidden": false
        },
        "nteract": {
          "transient": {
            "deleting": false
          }
        },
        "gather": {
          "logged": 1632332150383
        }
      }
    },
    {
      "cell_type": "code",
      "source": [
        "\r\n",
        "\r\n",
        "\r\n",
        "ds = Dataset.Tabular.from_delimited_files(path=\"https://archive.ics.uci.edu/ml/machine-learning-databases/00519/heart_failure_clinical_records_dataset.csv\")\r\n",
        "df = ds.to_pandas_dataframe(ds)\r\n",
        "\r\n"
      ],
      "outputs": [],
      "execution_count": 5,
      "metadata": {
        "jupyter": {
          "source_hidden": false,
          "outputs_hidden": false
        },
        "nteract": {
          "transient": {
            "deleting": false
          }
        },
        "gather": {
          "logged": 1632331049178
        }
      }
    },
    {
      "cell_type": "code",
      "source": [
        "from decision_tree import clean\r\n",
        "df = clean(df)\r\n",
        "if \"data\" not in os.listdir():\r\n",
        "    os.mkdir(\"./data\")\r\n",
        "df.to_csv('data/clean_heart_data.csv')"
      ],
      "outputs": [],
      "execution_count": 7,
      "metadata": {
        "jupyter": {
          "source_hidden": false,
          "outputs_hidden": false
        },
        "nteract": {
          "transient": {
            "deleting": false
          }
        },
        "gather": {
          "logged": 1632331106209
        }
      }
    },
    {
      "cell_type": "code",
      "source": [
        "datastore = ws.get_default_datastore()\r\n",
        "datastore.upload(src_dir='data',target_path='data')"
      ],
      "outputs": [
        {
          "output_type": "stream",
          "name": "stdout",
          "text": "Uploading an estimated of 3 files\nTarget already exists. Skipping upload for data/.amlignore\nTarget already exists. Skipping upload for data/.amlignore.amltmp\nUploading data/clean_heart_data.csv\nUploaded data/clean_heart_data.csv, 1 files out of an estimated total of 1\nUploaded 1 files\n"
        },
        {
          "output_type": "execute_result",
          "execution_count": 8,
          "data": {
            "text/plain": "$AZUREML_DATAREFERENCE_5d9b44d2b97647938461a8c664187d45"
          },
          "metadata": {}
        }
      ],
      "execution_count": 8,
      "metadata": {
        "jupyter": {
          "source_hidden": false,
          "outputs_hidden": false
        },
        "nteract": {
          "transient": {
            "deleting": false
          }
        },
        "gather": {
          "logged": 1632331118044
        }
      }
    },
    {
      "cell_type": "code",
      "source": [
        "data = Dataset.Tabular.from_delimited_files(path=[(datastore,'data/clean_heart_data.csv')])"
      ],
      "outputs": [],
      "execution_count": 9,
      "metadata": {
        "jupyter": {
          "source_hidden": false,
          "outputs_hidden": false
        },
        "nteract": {
          "transient": {
            "deleting": false
          }
        },
        "gather": {
          "logged": 1632331133262
        }
      }
    },
    {
      "cell_type": "markdown",
      "source": [
        "## AutoML Configuration\n",
        "\n",
        "TODO: Explain why you chose the automl settings and cofiguration you used below."
      ],
      "metadata": {}
    },
    {
      "cell_type": "code",
      "source": [
        "\n",
        "automl_config = AutoMLConfig(\n",
        "    experiment_timeout_minutes=60,\n",
        "    task='classification',\n",
        "    primary_metric='accuracy',\n",
        "    training_data=data,\n",
        "    label_column_name='DEATH_EVENT',\n",
        "    validation_size=.1,\n",
        "    test_size=.1,\n",
        "    compute_target=compute_target,\n",
        "    max_concurrent_iterations=2)"
      ],
      "outputs": [],
      "execution_count": 14,
      "metadata": {
        "gather": {
          "logged": 1632332158708
        },
        "jupyter": {
          "outputs_hidden": false,
          "source_hidden": false
        },
        "nteract": {
          "transient": {
            "deleting": false
          }
        }
      }
    },
    {
      "cell_type": "code",
      "source": [
        "# TODO: Submit your experiment\n",
        "remote_run = experiment.submit(automl_config)"
      ],
      "outputs": [
        {
          "output_type": "stream",
          "name": "stdout",
          "text": "Submitting remote run.\n"
        },
        {
          "output_type": "display_data",
          "data": {
            "text/plain": "<IPython.core.display.HTML object>",
            "text/html": "<table style=\"width:100%\"><tr><th>Experiment</th><th>Id</th><th>Type</th><th>Status</th><th>Details Page</th><th>Docs Page</th></tr><tr><td>heart_automl</td><td>AutoML_b9bed883-c3eb-42e4-8f1f-db1407c9ac02</td><td>automl</td><td>NotStarted</td><td><a href=\"https://ml.azure.com/runs/AutoML_b9bed883-c3eb-42e4-8f1f-db1407c9ac02?wsid=/subscriptions/17e15d04-6670-44fd-bf24-195e65650e31/resourcegroups/ML/workspaces/SkynetML&amp;tid=ba43be1b-e97c-42bb-8558-598c8435e5db\" target=\"_blank\" rel=\"noopener\">Link to Azure Machine Learning studio</a></td><td><a href=\"https://docs.microsoft.com/en-us/python/api/overview/azure/ml/intro?view=azure-ml-py\" target=\"_blank\" rel=\"noopener\">Link to Documentation</a></td></tr></table>"
          },
          "metadata": {}
        }
      ],
      "execution_count": 15,
      "metadata": {
        "gather": {
          "logged": 1632332165219
        },
        "jupyter": {
          "outputs_hidden": false,
          "source_hidden": false
        },
        "nteract": {
          "transient": {
            "deleting": false
          }
        }
      }
    },
    {
      "cell_type": "code",
      "source": [
        "from azureml.core import Run\r\n",
        "remote_run = Run(experiment,run_id=\"AutoML_b9bed883-c3eb-42e4-8f1f-db1407c9ac02\")"
      ],
      "outputs": [],
      "execution_count": 3,
      "metadata": {
        "jupyter": {
          "source_hidden": false,
          "outputs_hidden": false
        },
        "nteract": {
          "transient": {
            "deleting": false
          }
        },
        "gather": {
          "logged": 1632348733464
        }
      }
    },
    {
      "cell_type": "markdown",
      "source": [
        "## Run Details\n",
        "\n",
        "OPTIONAL: Write about the different models trained and their performance. Why do you think some models did better than others?\n",
        "\n",
        "TODO: In the cell below, use the `RunDetails` widget to show the different experiments."
      ],
      "metadata": {}
    },
    {
      "cell_type": "code",
      "source": [
        "from azureml.widgets import RunDetails\r\n",
        "RunDetails(remote_run).show()"
      ],
      "outputs": [
        {
          "output_type": "display_data",
          "data": {
            "text/plain": "_AutoMLWidget(widget_settings={'childWidgetDisplay': 'popup', 'send_telemetry': False, 'log_level': 'INFO', 's…",
            "application/vnd.jupyter.widget-view+json": {
              "version_major": 2,
              "version_minor": 0,
              "model_id": "a6380b5a9cc24181b067735683af760f"
            }
          },
          "metadata": {}
        },
        {
          "output_type": "display_data",
          "data": {
            "application/aml.mini.widget.v1": "{\"status\": \"Completed\", \"workbench_run_details_uri\": \"https://ml.azure.com/runs/AutoML_b9bed883-c3eb-42e4-8f1f-db1407c9ac02?wsid=/subscriptions/17e15d04-6670-44fd-bf24-195e65650e31/resourcegroups/ML/workspaces/SkynetML&tid=ba43be1b-e97c-42bb-8558-598c8435e5db\", \"run_id\": \"AutoML_b9bed883-c3eb-42e4-8f1f-db1407c9ac02\", \"run_properties\": {\"run_id\": \"AutoML_b9bed883-c3eb-42e4-8f1f-db1407c9ac02\", \"created_utc\": \"2021-09-22T17:36:23.421018Z\", \"properties\": {\"num_iterations\": \"1000\", \"training_type\": \"TrainFull\", \"acquisition_function\": \"EI\", \"primary_metric\": \"accuracy\", \"train_split\": \"0.1\", \"acquisition_parameter\": \"0\", \"num_cross_validation\": null, \"target\": \"ds11v2-cluster\", \"AMLSettingsJsonString\": \"{\\\"path\\\":null,\\\"name\\\":\\\"heart_automl\\\",\\\"subscription_id\\\":\\\"17e15d04-6670-44fd-bf24-195e65650e31\\\",\\\"resource_group\\\":\\\"ML\\\",\\\"workspace_name\\\":\\\"SkynetML\\\",\\\"region\\\":\\\"eastus\\\",\\\"compute_target\\\":\\\"ds11v2-cluster\\\",\\\"spark_service\\\":null,\\\"azure_service\\\":\\\"remote\\\",\\\"many_models\\\":false,\\\"pipeline_fetch_max_batch_size\\\":1,\\\"enable_batch_run\\\":false,\\\"enable_run_restructure\\\":false,\\\"start_auxiliary_runs_before_parent_complete\\\":true,\\\"enable_code_generation\\\":false,\\\"iterations\\\":1000,\\\"primary_metric\\\":\\\"accuracy\\\",\\\"task_type\\\":\\\"classification\\\",\\\"data_script\\\":null,\\\"test_size\\\":0.1,\\\"validation_size\\\":0.1,\\\"n_cross_validations\\\":null,\\\"y_min\\\":null,\\\"y_max\\\":null,\\\"num_classes\\\":null,\\\"featurization\\\":\\\"auto\\\",\\\"_ignore_package_version_incompatibilities\\\":false,\\\"is_timeseries\\\":false,\\\"max_cores_per_iteration\\\":1,\\\"max_concurrent_iterations\\\":2,\\\"iteration_timeout_minutes\\\":null,\\\"mem_in_mb\\\":null,\\\"enforce_time_on_windows\\\":false,\\\"experiment_timeout_minutes\\\":60,\\\"experiment_exit_score\\\":null,\\\"whitelist_models\\\":null,\\\"blacklist_algos\\\":[\\\"TensorFlowLinearClassifier\\\",\\\"TensorFlowDNN\\\"],\\\"supported_models\\\":[\\\"SVM\\\",\\\"MultinomialNaiveBayes\\\",\\\"TensorFlowLinearClassifier\\\",\\\"RandomForest\\\",\\\"LogisticRegression\\\",\\\"GradientBoosting\\\",\\\"LinearSVM\\\",\\\"SGD\\\",\\\"LightGBM\\\",\\\"AveragedPerceptronClassifier\\\",\\\"ExtremeRandomTrees\\\",\\\"BernoulliNaiveBayes\\\",\\\"KNN\\\",\\\"DecisionTree\\\",\\\"TensorFlowDNN\\\",\\\"XGBoostClassifier\\\"],\\\"private_models\\\":[],\\\"auto_blacklist\\\":true,\\\"blacklist_samples_reached\\\":false,\\\"exclude_nan_labels\\\":true,\\\"verbosity\\\":20,\\\"_debug_log\\\":\\\"azureml_automl.log\\\",\\\"show_warnings\\\":false,\\\"model_explainability\\\":true,\\\"service_url\\\":null,\\\"sdk_url\\\":null,\\\"sdk_packages\\\":null,\\\"enable_onnx_compatible_models\\\":false,\\\"enable_split_onnx_featurizer_estimator_models\\\":false,\\\"vm_type\\\":\\\"STANDARD_DS11_V2\\\",\\\"telemetry_verbosity\\\":20,\\\"send_telemetry\\\":true,\\\"enable_dnn\\\":false,\\\"scenario\\\":\\\"SDK-1.13.0\\\",\\\"environment_label\\\":null,\\\"save_mlflow\\\":false,\\\"force_text_dnn\\\":false,\\\"enable_feature_sweeping\\\":true,\\\"enable_early_stopping\\\":true,\\\"early_stopping_n_iters\\\":10,\\\"metrics\\\":null,\\\"enable_metric_confidence\\\":false,\\\"enable_ensembling\\\":true,\\\"enable_stack_ensembling\\\":true,\\\"ensemble_iterations\\\":15,\\\"enable_tf\\\":false,\\\"enable_subsampling\\\":null,\\\"subsample_seed\\\":null,\\\"enable_nimbusml\\\":false,\\\"enable_streaming\\\":false,\\\"force_streaming\\\":false,\\\"track_child_runs\\\":true,\\\"allowed_private_models\\\":[],\\\"label_column_name\\\":\\\"DEATH_EVENT\\\",\\\"weight_column_name\\\":null,\\\"cv_split_column_names\\\":null,\\\"enable_local_managed\\\":false,\\\"_local_managed_run_id\\\":null,\\\"cost_mode\\\":1,\\\"lag_length\\\":0,\\\"metric_operation\\\":\\\"maximize\\\",\\\"preprocess\\\":true}\", \"DataPrepJsonString\": \"{\\\\\\\"training_data\\\\\\\": {\\\\\\\"datasetId\\\\\\\": \\\\\\\"e24c7f9d-28d8-4b69-a513-b4b2ba5ad0be\\\\\\\"}, \\\\\\\"datasets\\\\\\\": 0}\", \"EnableSubsampling\": null, \"runTemplate\": \"AutoML\", \"azureml.runsource\": \"automl\", \"display_task_type\": \"classification\", \"dependencies_versions\": \"{\\\"azureml-widgets\\\": \\\"1.33.0\\\", \\\"azureml-train\\\": \\\"1.33.0\\\", \\\"azureml-train-restclients-hyperdrive\\\": \\\"1.33.0\\\", \\\"azureml-train-core\\\": \\\"1.33.0\\\", \\\"azureml-train-automl\\\": \\\"1.33.0\\\", \\\"azureml-train-automl-runtime\\\": \\\"1.33.0\\\", \\\"azureml-train-automl-client\\\": \\\"1.33.0\\\", \\\"azureml-tensorboard\\\": \\\"1.33.0\\\", \\\"azureml-telemetry\\\": \\\"1.33.0\\\", \\\"azureml-sdk\\\": \\\"1.33.0\\\", \\\"azureml-samples\\\": \\\"0+unknown\\\", \\\"azureml-responsibleai\\\": \\\"1.33.0\\\", \\\"azureml-pipeline\\\": \\\"1.33.0\\\", \\\"azureml-pipeline-steps\\\": \\\"1.33.0\\\", \\\"azureml-pipeline-core\\\": \\\"1.33.0\\\", \\\"azureml-opendatasets\\\": \\\"1.33.0\\\", \\\"azureml-mlflow\\\": \\\"1.33.0\\\", \\\"azureml-interpret\\\": \\\"1.33.0\\\", \\\"azureml-explain-model\\\": \\\"1.33.0\\\", \\\"azureml-defaults\\\": \\\"1.33.0\\\", \\\"azureml-dataset-runtime\\\": \\\"1.33.0\\\", \\\"azureml-dataprep\\\": \\\"2.20.1\\\", \\\"azureml-dataprep-rslex\\\": \\\"1.18.0\\\", \\\"azureml-dataprep-native\\\": \\\"38.0.0\\\", \\\"azureml-datadrift\\\": \\\"1.33.0\\\", \\\"azureml-core\\\": \\\"1.33.0\\\", \\\"azureml-contrib-services\\\": \\\"1.33.0\\\", \\\"azureml-contrib-server\\\": \\\"1.33.0\\\", \\\"azureml-contrib-reinforcementlearning\\\": \\\"1.33.0\\\", \\\"azureml-contrib-pipeline-steps\\\": \\\"1.33.0\\\", \\\"azureml-contrib-notebook\\\": \\\"1.33.0\\\", \\\"azureml-contrib-fairness\\\": \\\"1.33.0\\\", \\\"azureml-contrib-dataset\\\": \\\"1.33.0\\\", \\\"azureml-cli-common\\\": \\\"1.33.0\\\", \\\"azureml-automl-runtime\\\": \\\"1.33.0\\\", \\\"azureml-automl-dnn-nlp\\\": \\\"1.33.0\\\", \\\"azureml-automl-core\\\": \\\"1.33.0\\\", \\\"azureml-accel-models\\\": \\\"1.33.0\\\"}\", \"_aml_system_scenario_identification\": \"Remote.Parent\", \"ClientType\": \"SDK\", \"environment_cpu_name\": \"AzureML-AutoML\", \"environment_cpu_label\": \"prod\", \"environment_gpu_name\": \"AzureML-AutoML-GPU\", \"environment_gpu_label\": \"prod\", \"root_attribution\": \"automl\", \"attribution\": \"AutoML\", \"Orchestrator\": \"AutoML\", \"CancelUri\": \"https://eastus.api.azureml.ms/jasmine/v1.0/subscriptions/17e15d04-6670-44fd-bf24-195e65650e31/resourceGroups/ML/providers/Microsoft.MachineLearningServices/workspaces/SkynetML/experimentids/7aac92f9-de49-4e80-a0d2-d39e74ad0eeb/cancel/AutoML_b9bed883-c3eb-42e4-8f1f-db1407c9ac02\", \"ClientSdkVersion\": \"1.34.0\", \"snapshotId\": \"00000000-0000-0000-0000-000000000000\", \"SetupRunId\": \"AutoML_b9bed883-c3eb-42e4-8f1f-db1407c9ac02_setup\", \"SetupRunContainerId\": \"dcid.AutoML_b9bed883-c3eb-42e4-8f1f-db1407c9ac02_setup\", \"FeaturizationRunJsonPath\": \"featurizer_container.json\", \"FeaturizationRunId\": \"AutoML_b9bed883-c3eb-42e4-8f1f-db1407c9ac02_featurize\", \"ProblemInfoJsonString\": \"{\\\"dataset_num_categorical\\\": 0, \\\"is_sparse\\\": false, \\\"subsampling\\\": false, \\\"has_extra_col\\\": true, \\\"dataset_classes\\\": 2, \\\"dataset_features\\\": 13, \\\"dataset_samples\\\": 221, \\\"single_frequency_class_detected\\\": false}\", \"ModelExplainRunId\": \"AutoML_b9bed883-c3eb-42e4-8f1f-db1407c9ac02_ModelExplain\"}, \"tags\": {\"model_explain_run\": \"best_run\", \"_aml_system_azureml.automlComponent\": \"AutoML\", \"pipeline_id\": \"\", \"score\": \"\", \"predicted_cost\": \"\", \"fit_time\": \"\", \"training_percent\": \"\", \"iteration\": \"\", \"run_preprocessor\": \"\", \"run_algorithm\": \"\", \"dynamic_whitelisting_iterations\": \"<25>;<30>;\", \"automl_best_child_run_id\": \"AutoML_b9bed883-c3eb-42e4-8f1f-db1407c9ac02_1\", \"model_explain_best_run_child_id\": \"AutoML_b9bed883-c3eb-42e4-8f1f-db1407c9ac02_1\"}, \"end_time_utc\": \"2021-09-22T17:58:49.630552Z\", \"status\": \"Completed\", \"log_files\": {}, \"log_groups\": [], \"run_duration\": \"0:22:26\", \"run_number\": \"3\", \"run_queued_details\": {\"status\": \"Completed\", \"details\": null}}, \"child_runs\": [{\"run_id\": \"AutoML_b9bed883-c3eb-42e4-8f1f-db1407c9ac02_0\", \"run_number\": 7, \"metric\": null, \"status\": \"Completed\", \"run_type\": \"azureml.scriptrun\", \"training_percent\": \"100\", \"start_time\": \"2021-09-22T17:43:56.614256Z\", \"end_time\": \"2021-09-22T17:44:32.607832Z\", \"created_time\": \"2021-09-22T17:42:46.51784Z\", \"created_time_dt\": \"2021-09-22T17:42:46.51784Z\", \"duration\": \"0:01:46\", \"iteration\": \"0\", \"goal\": \"accuracy_max\", \"run_name\": \"MaxAbsScaler, LightGBM\", \"run_properties\": \"copy=True\", \"primary_metric\": 0.76, \"best_metric\": 0.76}, {\"run_id\": \"AutoML_b9bed883-c3eb-42e4-8f1f-db1407c9ac02_1\", \"run_number\": 8, \"metric\": null, \"status\": \"Completed\", \"run_type\": \"azureml.scriptrun\", \"training_percent\": \"100\", \"start_time\": \"2021-09-22T17:43:02.159392Z\", \"end_time\": \"2021-09-22T17:43:39.739751Z\", \"created_time\": \"2021-09-22T17:42:46.535105Z\", \"created_time_dt\": \"2021-09-22T17:42:46.535105Z\", \"duration\": \"0:00:53\", \"iteration\": \"1\", \"goal\": \"accuracy_max\", \"run_name\": \"MaxAbsScaler, XGBoostClassifier\", \"run_properties\": \"copy=True\", \"primary_metric\": 0.8, \"best_metric\": 0.8}, {\"run_id\": \"AutoML_b9bed883-c3eb-42e4-8f1f-db1407c9ac02_2\", \"run_number\": 9, \"metric\": null, \"status\": \"Completed\", \"run_type\": \"azureml.scriptrun\", \"training_percent\": \"100\", \"start_time\": \"2021-09-22T17:44:47.052784Z\", \"end_time\": \"2021-09-22T17:45:23.692122Z\", \"created_time\": \"2021-09-22T17:43:40.987846Z\", \"created_time_dt\": \"2021-09-22T17:43:40.987846Z\", \"duration\": \"0:01:42\", \"iteration\": \"2\", \"goal\": \"accuracy_max\", \"run_name\": \"MaxAbsScaler, ExtremeRandomTrees\", \"run_properties\": \"copy=True\", \"primary_metric\": 0.68, \"best_metric\": 0.8}, {\"run_id\": \"AutoML_b9bed883-c3eb-42e4-8f1f-db1407c9ac02_3\", \"run_number\": 10, \"metric\": null, \"status\": \"Completed\", \"run_type\": \"azureml.scriptrun\", \"training_percent\": \"100\", \"start_time\": \"2021-09-22T17:45:40.552068Z\", \"end_time\": \"2021-09-22T17:46:12.978961Z\", \"created_time\": \"2021-09-22T17:44:33.807468Z\", \"created_time_dt\": \"2021-09-22T17:44:33.807468Z\", \"duration\": \"0:01:39\", \"iteration\": \"3\", \"goal\": \"accuracy_max\", \"run_name\": \"SparseNormalizer, XGBoostClassifier\", \"run_properties\": \"copy=True, norm='l2'\", \"primary_metric\": 0.6, \"best_metric\": 0.8}, {\"run_id\": \"AutoML_b9bed883-c3eb-42e4-8f1f-db1407c9ac02_4\", \"run_number\": 11, \"metric\": null, \"status\": \"Completed\", \"run_type\": \"azureml.scriptrun\", \"training_percent\": \"100\", \"start_time\": \"2021-09-22T17:46:08.870584Z\", \"end_time\": \"2021-09-22T17:47:45.232641Z\", \"created_time\": \"2021-09-22T17:45:25.726589Z\", \"created_time_dt\": \"2021-09-22T17:45:25.726589Z\", \"duration\": \"0:02:19\", \"iteration\": \"4\", \"goal\": \"accuracy_max\", \"run_name\": \"StandardScalerWrapper, KNN\", \"run_properties\": \"\\n    copy=True,\\n    with_mean=False,\\n    with_std=False\\n\", \"primary_metric\": 0.48, \"best_metric\": 0.8}, {\"run_id\": \"AutoML_b9bed883-c3eb-42e4-8f1f-db1407c9ac02_5\", \"run_number\": 12, \"metric\": null, \"status\": \"Completed\", \"run_type\": \"azureml.scriptrun\", \"training_percent\": \"100\", \"start_time\": \"2021-09-22T17:46:28.451364Z\", \"end_time\": \"2021-09-22T17:47:03.293275Z\", \"created_time\": \"2021-09-22T17:46:15.214133Z\", \"created_time_dt\": \"2021-09-22T17:46:15.214133Z\", \"duration\": \"0:00:48\", \"iteration\": \"5\", \"goal\": \"accuracy_max\", \"run_name\": \"MaxAbsScaler, LightGBM\", \"run_properties\": \"copy=True\", \"primary_metric\": 0.72, \"best_metric\": 0.8}, {\"run_id\": \"AutoML_b9bed883-c3eb-42e4-8f1f-db1407c9ac02_6\", \"run_number\": 13, \"metric\": null, \"status\": \"Completed\", \"run_type\": \"azureml.scriptrun\", \"training_percent\": \"100\", \"start_time\": \"2021-09-22T17:47:16.29736Z\", \"end_time\": \"2021-09-22T17:47:48.828585Z\", \"created_time\": \"2021-09-22T17:47:05.455461Z\", \"created_time_dt\": \"2021-09-22T17:47:05.455461Z\", \"duration\": \"0:00:43\", \"iteration\": \"6\", \"goal\": \"accuracy_max\", \"run_name\": \"RobustScaler, LogisticRegression\", \"run_properties\": \"copy=True, quantile_range=[10, 90], with_centering=True,\\n             with_scaling=True\", \"primary_metric\": 0.72, \"best_metric\": 0.8}, {\"run_id\": \"AutoML_b9bed883-c3eb-42e4-8f1f-db1407c9ac02_7\", \"run_number\": 14, \"metric\": null, \"status\": \"Completed\", \"run_type\": \"azureml.scriptrun\", \"training_percent\": \"100\", \"start_time\": \"2021-09-22T17:47:59.774385Z\", \"end_time\": \"2021-09-22T17:48:35.176021Z\", \"created_time\": \"2021-09-22T17:47:47.128452Z\", \"created_time_dt\": \"2021-09-22T17:47:47.128452Z\", \"duration\": \"0:00:48\", \"iteration\": \"7\", \"goal\": \"accuracy_max\", \"run_name\": \"MaxAbsScaler, LightGBM\", \"run_properties\": \"copy=True\", \"primary_metric\": 0.68, \"best_metric\": 0.8}, {\"run_id\": \"AutoML_b9bed883-c3eb-42e4-8f1f-db1407c9ac02_8\", \"run_number\": 15, \"metric\": null, \"status\": \"Completed\", \"run_type\": \"azureml.scriptrun\", \"training_percent\": \"100\", \"start_time\": \"2021-09-22T17:48:05.700417Z\", \"end_time\": \"2021-09-22T17:48:38.560397Z\", \"created_time\": \"2021-09-22T17:47:50.671236Z\", \"created_time_dt\": \"2021-09-22T17:47:50.671236Z\", \"duration\": \"0:00:47\", \"iteration\": \"8\", \"goal\": \"accuracy_max\", \"run_name\": \"StandardScalerWrapper, KNN\", \"run_properties\": \"\\n    copy=True,\\n    with_mean=False,\\n    with_std=False\\n\", \"primary_metric\": 0.44, \"best_metric\": 0.8}, {\"run_id\": \"AutoML_b9bed883-c3eb-42e4-8f1f-db1407c9ac02_9\", \"run_number\": 16, \"metric\": null, \"status\": \"Completed\", \"run_type\": \"azureml.scriptrun\", \"training_percent\": \"100\", \"start_time\": \"2021-09-22T17:48:51.461355Z\", \"end_time\": \"2021-09-22T17:49:24.875283Z\", \"created_time\": \"2021-09-22T17:48:37.329546Z\", \"created_time_dt\": \"2021-09-22T17:48:37.329546Z\", \"duration\": \"0:00:47\", \"iteration\": \"9\", \"goal\": \"accuracy_max\", \"run_name\": \"StandardScalerWrapper, SVM\", \"run_properties\": \"\\n    copy=True,\\n    with_mean=True,\\n    with_std=True\\n\", \"primary_metric\": 0.68, \"best_metric\": 0.8}, {\"run_id\": \"AutoML_b9bed883-c3eb-42e4-8f1f-db1407c9ac02_10\", \"run_number\": 17, \"metric\": null, \"status\": \"Completed\", \"run_type\": \"azureml.scriptrun\", \"training_percent\": \"100\", \"start_time\": \"2021-09-22T17:48:54.290918Z\", \"end_time\": \"2021-09-22T17:49:27.194286Z\", \"created_time\": \"2021-09-22T17:48:41.263242Z\", \"created_time_dt\": \"2021-09-22T17:48:41.263242Z\", \"duration\": \"0:00:45\", \"iteration\": \"10\", \"goal\": \"accuracy_max\", \"run_name\": \"StandardScalerWrapper, XGBoostClassifier\", \"run_properties\": \"\\n    copy=True,\\n    with_mean=False,\\n    with_std=False\\n\", \"primary_metric\": 0.72, \"best_metric\": 0.8}, {\"run_id\": \"AutoML_b9bed883-c3eb-42e4-8f1f-db1407c9ac02_11\", \"run_number\": 18, \"metric\": null, \"status\": \"Completed\", \"run_type\": \"azureml.scriptrun\", \"training_percent\": \"100\", \"start_time\": \"2021-09-22T17:49:39.620245Z\", \"end_time\": \"2021-09-22T17:50:15.431182Z\", \"created_time\": \"2021-09-22T17:49:27.936001Z\", \"created_time_dt\": \"2021-09-22T17:49:27.936001Z\", \"duration\": \"0:00:47\", \"iteration\": \"11\", \"goal\": \"accuracy_max\", \"run_name\": \"MinMaxScaler, RandomForest\", \"run_properties\": \"copy=True, feature_range=(0, 1\", \"primary_metric\": 0.76, \"best_metric\": 0.8}, {\"run_id\": \"AutoML_b9bed883-c3eb-42e4-8f1f-db1407c9ac02_12\", \"run_number\": 19, \"metric\": null, \"status\": \"Completed\", \"run_type\": \"azureml.scriptrun\", \"training_percent\": \"100\", \"start_time\": \"2021-09-22T17:49:42.425335Z\", \"end_time\": \"2021-09-22T17:50:22.408164Z\", \"created_time\": \"2021-09-22T17:49:30.793404Z\", \"created_time_dt\": \"2021-09-22T17:49:30.793404Z\", \"duration\": \"0:00:51\", \"iteration\": \"12\", \"goal\": \"accuracy_max\", \"run_name\": \"StandardScalerWrapper, LogisticRegression\", \"run_properties\": \"\\n    copy=True,\\n    with_mean=True,\\n    with_std=False\\n\", \"primary_metric\": 0.76, \"best_metric\": 0.8}, {\"run_id\": \"AutoML_b9bed883-c3eb-42e4-8f1f-db1407c9ac02_13\", \"run_number\": 20, \"metric\": null, \"status\": \"Completed\", \"run_type\": \"azureml.scriptrun\", \"training_percent\": \"100\", \"start_time\": \"2021-09-22T17:50:31.04539Z\", \"end_time\": \"2021-09-22T17:51:05.011255Z\", \"created_time\": \"2021-09-22T17:50:17.333449Z\", \"created_time_dt\": \"2021-09-22T17:50:17.333449Z\", \"duration\": \"0:00:47\", \"iteration\": \"13\", \"goal\": \"accuracy_max\", \"run_name\": \"StandardScalerWrapper, KNN\", \"run_properties\": \"\\n    copy=True,\\n    with_mean=False,\\n    with_std=True\\n\", \"primary_metric\": 0.68, \"best_metric\": 0.8}, {\"run_id\": \"AutoML_b9bed883-c3eb-42e4-8f1f-db1407c9ac02_14\", \"run_number\": 21, \"metric\": null, \"status\": \"Completed\", \"run_type\": \"azureml.scriptrun\", \"training_percent\": \"100\", \"start_time\": \"2021-09-22T17:50:37.903381Z\", \"end_time\": \"2021-09-22T17:51:10.625676Z\", \"created_time\": \"2021-09-22T17:50:24.469488Z\", \"created_time_dt\": \"2021-09-22T17:50:24.469488Z\", \"duration\": \"0:00:46\", \"iteration\": \"14\", \"goal\": \"accuracy_max\", \"run_name\": \"RobustScaler, KNN\", \"run_properties\": \"copy=True, quantile_range=[10, 90], with_centering=False,\\n             with_scaling=True\", \"primary_metric\": 0.72, \"best_metric\": 0.8}, {\"run_id\": \"AutoML_b9bed883-c3eb-42e4-8f1f-db1407c9ac02_15\", \"run_number\": 22, \"metric\": null, \"status\": \"Completed\", \"run_type\": \"azureml.scriptrun\", \"training_percent\": \"100\", \"start_time\": \"2021-09-22T17:51:20.544533Z\", \"end_time\": \"2021-09-22T17:51:53.098578Z\", \"created_time\": \"2021-09-22T17:51:07.00727Z\", \"created_time_dt\": \"2021-09-22T17:51:07.00727Z\", \"duration\": \"0:00:46\", \"iteration\": \"15\", \"goal\": \"accuracy_max\", \"run_name\": \"MinMaxScaler, KNN\", \"run_properties\": \"copy=True, feature_range=(0, 1\", \"primary_metric\": 0.68, \"best_metric\": 0.8}, {\"run_id\": \"AutoML_b9bed883-c3eb-42e4-8f1f-db1407c9ac02_16\", \"run_number\": 23, \"metric\": null, \"status\": \"Completed\", \"run_type\": \"azureml.scriptrun\", \"training_percent\": \"100\", \"start_time\": \"2021-09-22T17:51:29.530573Z\", \"end_time\": \"2021-09-22T17:52:03.497191Z\", \"created_time\": \"2021-09-22T17:51:12.937301Z\", \"created_time_dt\": \"2021-09-22T17:51:12.937301Z\", \"duration\": \"0:00:50\", \"iteration\": \"16\", \"goal\": \"accuracy_max\", \"run_name\": \"SparseNormalizer, KNN\", \"run_properties\": \"copy=True, norm='max'\", \"primary_metric\": 0.68, \"best_metric\": 0.8}, {\"run_id\": \"AutoML_b9bed883-c3eb-42e4-8f1f-db1407c9ac02_17\", \"run_number\": 24, \"metric\": null, \"status\": \"Completed\", \"run_type\": \"azureml.scriptrun\", \"training_percent\": \"100\", \"start_time\": \"2021-09-22T17:52:09.798452Z\", \"end_time\": \"2021-09-22T17:52:42.172489Z\", \"created_time\": \"2021-09-22T17:51:54.975288Z\", \"created_time_dt\": \"2021-09-22T17:51:54.975288Z\", \"duration\": \"0:00:47\", \"iteration\": \"17\", \"goal\": \"accuracy_max\", \"run_name\": \"MaxAbsScaler, LogisticRegression\", \"run_properties\": \"copy=True\", \"primary_metric\": 0.76, \"best_metric\": 0.8}, {\"run_id\": \"AutoML_b9bed883-c3eb-42e4-8f1f-db1407c9ac02_18\", \"run_number\": 25, \"metric\": null, \"status\": \"Completed\", \"run_type\": \"azureml.scriptrun\", \"training_percent\": \"100\", \"start_time\": \"2021-09-22T17:52:19.038989Z\", \"end_time\": \"2021-09-22T17:52:52.178216Z\", \"created_time\": \"2021-09-22T17:52:05.492122Z\", \"created_time_dt\": \"2021-09-22T17:52:05.492122Z\", \"duration\": \"0:00:46\", \"iteration\": \"18\", \"goal\": \"accuracy_max\", \"run_name\": \"StandardScalerWrapper, XGBoostClassifier\", \"run_properties\": \"\\n    copy=True,\\n    with_mean=False,\\n    with_std=False\\n\", \"primary_metric\": 0.72, \"best_metric\": 0.8}, {\"run_id\": \"AutoML_b9bed883-c3eb-42e4-8f1f-db1407c9ac02_19\", \"run_number\": 26, \"metric\": null, \"status\": \"Completed\", \"run_type\": \"azureml.scriptrun\", \"training_percent\": \"100\", \"start_time\": \"2021-09-22T17:52:57.592298Z\", \"end_time\": \"2021-09-22T17:53:30.777587Z\", \"created_time\": \"2021-09-22T17:52:44.217205Z\", \"created_time_dt\": \"2021-09-22T17:52:44.217205Z\", \"duration\": \"0:00:46\", \"iteration\": \"19\", \"goal\": \"accuracy_max\", \"run_name\": \"StandardScalerWrapper, XGBoostClassifier\", \"run_properties\": \"\\n    copy=True,\\n    with_mean=False,\\n    with_std=False\\n\", \"primary_metric\": 0.72, \"best_metric\": 0.8}, {\"run_id\": \"AutoML_b9bed883-c3eb-42e4-8f1f-db1407c9ac02_20\", \"run_number\": 27, \"metric\": null, \"status\": \"Completed\", \"run_type\": \"azureml.scriptrun\", \"training_percent\": \"100\", \"start_time\": \"2021-09-22T17:53:09.205692Z\", \"end_time\": \"2021-09-22T17:53:42.932359Z\", \"created_time\": \"2021-09-22T17:52:54.178128Z\", \"created_time_dt\": \"2021-09-22T17:52:54.178128Z\", \"duration\": \"0:00:48\", \"iteration\": \"20\", \"goal\": \"accuracy_max\", \"run_name\": \"MaxAbsScaler, LogisticRegression\", \"run_properties\": \"copy=True\", \"primary_metric\": 0.76, \"best_metric\": 0.8}, {\"run_id\": \"AutoML_b9bed883-c3eb-42e4-8f1f-db1407c9ac02_21\", \"run_number\": 28, \"metric\": null, \"status\": \"Completed\", \"run_type\": \"azureml.scriptrun\", \"training_percent\": \"100\", \"start_time\": \"2021-09-22T17:53:45.337239Z\", \"end_time\": \"2021-09-22T17:54:17.691235Z\", \"created_time\": \"2021-09-22T17:53:33.026956Z\", \"created_time_dt\": \"2021-09-22T17:53:33.026956Z\", \"duration\": \"0:00:44\", \"iteration\": \"21\", \"goal\": \"accuracy_max\", \"run_name\": \"StandardScalerWrapper, XGBoostClassifier\", \"run_properties\": \"\\n    copy=True,\\n    with_mean=False,\\n    with_std=False\\n\", \"primary_metric\": 0.72, \"best_metric\": 0.8}, {\"run_id\": \"AutoML_b9bed883-c3eb-42e4-8f1f-db1407c9ac02_22\", \"run_number\": 29, \"metric\": null, \"status\": \"Completed\", \"run_type\": \"azureml.scriptrun\", \"training_percent\": \"100\", \"start_time\": \"2021-09-22T17:53:57.471914Z\", \"end_time\": \"2021-09-22T17:54:30.29409Z\", \"created_time\": \"2021-09-22T17:53:45.292771Z\", \"created_time_dt\": \"2021-09-22T17:53:45.292771Z\", \"duration\": \"0:00:45\", \"iteration\": \"22\", \"goal\": \"accuracy_max\", \"run_name\": \"SparseNormalizer, RandomForest\", \"run_properties\": \"copy=True, norm='l2'\", \"primary_metric\": 0.72, \"best_metric\": 0.8}, {\"run_id\": \"AutoML_b9bed883-c3eb-42e4-8f1f-db1407c9ac02_23\", \"run_number\": 30, \"metric\": null, \"status\": \"Completed\", \"run_type\": \"azureml.scriptrun\", \"training_percent\": \"100\", \"start_time\": \"2021-09-22T17:54:39.58066Z\", \"end_time\": \"2021-09-22T17:55:03.184704Z\", \"created_time\": \"2021-09-22T17:54:19.546257Z\", \"created_time_dt\": \"2021-09-22T17:54:19.546257Z\", \"duration\": \"0:00:43\", \"iteration\": \"23\", \"goal\": \"accuracy_max\", \"run_name\": \"RobustScaler, RandomForest\", \"run_properties\": \"copy=True, quantile_range=[25, 75], with_centering=True,\\n             with_scaling=True\", \"primary_metric\": 0.72, \"best_metric\": 0.8}, {\"run_id\": \"AutoML_b9bed883-c3eb-42e4-8f1f-db1407c9ac02_24\", \"run_number\": 31, \"metric\": null, \"status\": \"Completed\", \"run_type\": \"azureml.scriptrun\", \"training_percent\": \"100\", \"start_time\": \"2021-09-22T17:54:47.03531Z\", \"end_time\": \"2021-09-22T17:55:21.433634Z\", \"created_time\": \"2021-09-22T17:54:32.213479Z\", \"created_time_dt\": \"2021-09-22T17:54:32.213479Z\", \"duration\": \"0:00:49\", \"iteration\": \"24\", \"goal\": \"accuracy_max\", \"run_name\": \"RobustScaler, RandomForest\", \"run_properties\": \"copy=True, quantile_range=[10, 90], with_centering=True,\\n             with_scaling=True\", \"primary_metric\": 0.72, \"best_metric\": 0.8}, {\"run_id\": \"AutoML_b9bed883-c3eb-42e4-8f1f-db1407c9ac02_25\", \"run_number\": 32, \"metric\": null, \"status\": \"Completed\", \"run_type\": \"azureml.scriptrun\", \"training_percent\": \"100\", \"start_time\": \"2021-09-22T17:55:20.491678Z\", \"end_time\": \"2021-09-22T17:55:52.308174Z\", \"created_time\": \"2021-09-22T17:55:05.965499Z\", \"created_time_dt\": \"2021-09-22T17:55:05.965499Z\", \"duration\": \"0:00:46\", \"iteration\": \"25\", \"goal\": \"accuracy_max\", \"run_name\": \"SparseNormalizer, XGBoostClassifier\", \"run_properties\": \"copy=True, norm='max'\", \"primary_metric\": 0.76, \"best_metric\": 0.8}, {\"run_id\": \"AutoML_b9bed883-c3eb-42e4-8f1f-db1407c9ac02_26\", \"run_number\": 33, \"metric\": null, \"status\": \"Completed\", \"run_type\": \"azureml.scriptrun\", \"training_percent\": \"100\", \"start_time\": \"2021-09-22T17:55:34.83519Z\", \"end_time\": \"2021-09-22T17:56:07.956895Z\", \"created_time\": \"2021-09-22T17:55:23.271138Z\", \"created_time_dt\": \"2021-09-22T17:55:23.271138Z\", \"duration\": \"0:00:44\", \"iteration\": \"26\", \"goal\": \"accuracy_max\", \"run_name\": \"MinMaxScaler, LogisticRegression\", \"run_properties\": \"copy=True, feature_range=(0, 1\", \"primary_metric\": 0.76, \"best_metric\": 0.8}, {\"run_id\": \"AutoML_b9bed883-c3eb-42e4-8f1f-db1407c9ac02_27\", \"run_number\": 34, \"metric\": null, \"status\": \"Completed\", \"run_type\": \"azureml.scriptrun\", \"training_percent\": \"100\", \"start_time\": \"2021-09-22T17:56:08.093049Z\", \"end_time\": \"2021-09-22T17:56:40.739306Z\", \"created_time\": \"2021-09-22T17:55:54.135168Z\", \"created_time_dt\": \"2021-09-22T17:55:54.135168Z\", \"duration\": \"0:00:46\", \"iteration\": \"27\", \"goal\": \"accuracy_max\", \"run_name\": \"StandardScalerWrapper, LightGBM\", \"run_properties\": \"\\n    copy=True,\\n    with_mean=False,\\n    with_std=False\\n\", \"primary_metric\": 0.72, \"best_metric\": 0.8}, {\"run_id\": \"AutoML_b9bed883-c3eb-42e4-8f1f-db1407c9ac02_28\", \"run_number\": 35, \"metric\": null, \"status\": \"Completed\", \"run_type\": \"azureml.scriptrun\", \"training_percent\": \"100\", \"start_time\": \"2021-09-22T17:56:24.270942Z\", \"end_time\": \"2021-09-22T17:56:58.996045Z\", \"created_time\": \"2021-09-22T17:56:09.884581Z\", \"created_time_dt\": \"2021-09-22T17:56:09.884581Z\", \"duration\": \"0:00:49\", \"iteration\": \"28\", \"goal\": \"accuracy_max\", \"run_name\": \"StandardScalerWrapper, LightGBM\", \"run_properties\": \"\\n    copy=True,\\n    with_mean=True,\\n    with_std=False\\n\", \"primary_metric\": 0.72, \"best_metric\": 0.8}, {\"run_id\": \"AutoML_b9bed883-c3eb-42e4-8f1f-db1407c9ac02_29\", \"run_number\": 36, \"metric\": null, \"status\": \"Completed\", \"run_type\": \"azureml.scriptrun\", \"training_percent\": \"100\", \"start_time\": \"2021-09-22T17:56:57.620328Z\", \"end_time\": \"2021-09-22T17:57:29.282463Z\", \"created_time\": \"2021-09-22T17:56:42.483105Z\", \"created_time_dt\": \"2021-09-22T17:56:42.483105Z\", \"duration\": \"0:00:46\", \"iteration\": \"29\", \"goal\": \"accuracy_max\", \"run_name\": \"StandardScalerWrapper, XGBoostClassifier\", \"run_properties\": \"\\n    copy=True,\\n    with_mean=False,\\n    with_std=False\\n\", \"primary_metric\": 0.72, \"best_metric\": 0.8}, {\"run_id\": \"AutoML_b9bed883-c3eb-42e4-8f1f-db1407c9ac02_30\", \"run_number\": 37, \"metric\": null, \"status\": \"Completed\", \"run_type\": \"azureml.scriptrun\", \"training_percent\": \"100\", \"start_time\": \"2021-09-22T17:57:13.47674Z\", \"end_time\": \"2021-09-22T17:57:48.262552Z\", \"created_time\": \"2021-09-22T17:57:01.494804Z\", \"created_time_dt\": \"2021-09-22T17:57:01.494804Z\", \"duration\": \"0:00:46\", \"iteration\": \"30\", \"goal\": \"accuracy_max\", \"run_name\": \"PCA, XGBoostClassifier\", \"run_properties\": \"copy=True, iterated_power='auto', n_components=0.3563157894736842,\\n    random_state=None, svd_solver='auto', tol=0.0, whiten=True\", \"primary_metric\": 0.68, \"best_metric\": 0.8}, {\"run_id\": \"AutoML_b9bed883-c3eb-42e4-8f1f-db1407c9ac02_31\", \"run_number\": 38, \"metric\": null, \"status\": \"Canceled\", \"run_type\": \"azureml.scriptrun\", \"training_percent\": \"100\", \"start_time\": \"2021-09-22T17:57:45.225134Z\", \"end_time\": \"2021-09-22T17:57:49.37199Z\", \"created_time\": \"2021-09-22T17:57:30.968882Z\", \"created_time_dt\": \"2021-09-22T17:57:30.968882Z\", \"duration\": \"0:00:18\", \"iteration\": \"31\", \"goal\": null, \"run_name\": \"Canceled\", \"run_properties\": null}, {\"run_id\": \"AutoML_b9bed883-c3eb-42e4-8f1f-db1407c9ac02_33\", \"run_number\": 39, \"metric\": null, \"status\": \"Completed\", \"run_type\": \"azureml.scriptrun\", \"training_percent\": \"100\", \"start_time\": \"2021-09-22T17:57:57.374557Z\", \"end_time\": \"2021-09-22T17:58:40.233891Z\", \"created_time\": \"2021-09-22T17:57:50.083334Z\", \"created_time_dt\": \"2021-09-22T17:57:50.083334Z\", \"duration\": \"0:00:50\", \"iteration\": \"33\", \"goal\": \"accuracy_max\", \"run_name\": \"StackEnsemble\", \"run_properties\": \"\\n    base_learners=[('1', Pipeline(\\n        memory=None,\\n        steps=[('maxabsscaler', MaxAbsScaler(\\n            copy=True\\n        \", \"primary_metric\": 0.76, \"best_metric\": 0.8}, {\"run_id\": \"AutoML_b9bed883-c3eb-42e4-8f1f-db1407c9ac02_32\", \"run_number\": 40, \"metric\": null, \"status\": \"Completed\", \"run_type\": \"azureml.scriptrun\", \"training_percent\": \"100\", \"start_time\": \"2021-09-22T17:58:04.566272Z\", \"end_time\": \"2021-09-22T17:58:46.982439Z\", \"created_time\": \"2021-09-22T17:57:50.088402Z\", \"created_time_dt\": \"2021-09-22T17:57:50.088402Z\", \"duration\": \"0:00:56\", \"iteration\": \"32\", \"goal\": \"accuracy_max\", \"run_name\": \"VotingEnsemble\", \"run_properties\": \"\\n    estimators=[('1', Pipeline(\\n        memory=None,\\n        steps=[('maxabsscaler', MaxAbsScaler(\\n            copy=True\\n        \", \"primary_metric\": 0.76, \"best_metric\": 0.8}], \"children_metrics\": {\"categories\": [0], \"series\": {\"f1_score_micro\": [{\"categories\": [\"0\", \"1\", \"2\", \"3\", \"4\", \"5\", \"6\", \"7\", \"8\", \"9\", \"10\", \"11\", \"12\", \"13\", \"14\", \"15\", \"16\", \"17\", \"18\", \"19\", \"20\", \"21\", \"22\", \"23\", \"24\", \"25\", \"26\", \"27\", \"28\", \"29\", \"30\", \"32\", \"33\"], \"mode\": \"markers\", \"name\": \"f1_score_micro\", \"stepped\": false, \"type\": \"scatter\", \"data\": [0.76, 0.8000000000000002, 0.68, 0.6, 0.48, 0.72, 0.72, 0.68, 0.44, 0.68, 0.72, 0.76, 0.76, 0.68, 0.72, 0.68, 0.68, 0.76, 0.72, 0.72, 0.76, 0.72, 0.72, 0.72, 0.72, 0.76, 0.76, 0.72, 0.72, 0.72, 0.68, 0.76, 0.76]}, {\"categories\": [\"0\", \"1\", \"2\", \"3\", \"4\", \"5\", \"6\", \"7\", \"8\", \"9\", \"10\", \"11\", \"12\", \"13\", \"14\", \"15\", \"16\", \"17\", \"18\", \"19\", \"20\", \"21\", \"22\", \"23\", \"24\", \"25\", \"26\", \"27\", \"28\", \"29\", \"30\", \"32\", \"33\"], \"mode\": \"lines\", \"name\": \"f1_score_micro_max\", \"stepped\": true, \"type\": \"scatter\", \"data\": [0.76, 0.8000000000000002, 0.8000000000000002, 0.8000000000000002, 0.8000000000000002, 0.8000000000000002, 0.8000000000000002, 0.8000000000000002, 0.8000000000000002, 0.8000000000000002, 0.8000000000000002, 0.8000000000000002, 0.8000000000000002, 0.8000000000000002, 0.8000000000000002, 0.8000000000000002, 0.8000000000000002, 0.8000000000000002, 0.8000000000000002, 0.8000000000000002, 0.8000000000000002, 0.8000000000000002, 0.8000000000000002, 0.8000000000000002, 0.8000000000000002, 0.8000000000000002, 0.8000000000000002, 0.8000000000000002, 0.8000000000000002, 0.8000000000000002, 0.8000000000000002, 0.8000000000000002, 0.8000000000000002]}], \"average_precision_score_micro\": [{\"categories\": [\"0\", \"1\", \"2\", \"3\", \"4\", \"5\", \"6\", \"7\", \"8\", \"9\", \"10\", \"11\", \"12\", \"13\", \"14\", \"15\", \"16\", \"17\", \"18\", \"19\", \"20\", \"21\", \"22\", \"23\", \"24\", \"25\", \"26\", \"27\", \"28\", \"29\", \"30\", \"32\", \"33\"], \"mode\": \"markers\", \"name\": \"average_precision_score_micro\", \"stepped\": false, \"type\": \"scatter\", \"data\": [0.8477240253039015, 0.8484042658416646, 0.8012509223389462, 0.8119137368789107, 0.5904412150654834, 0.83955243663394, 0.8463409127437098, 0.7738538084830388, 0.6030269663813306, 0.7948092690750623, 0.8030445753457265, 0.8387777218288728, 0.7975672938291917, 0.7763839880125791, 0.743624335946657, 0.6183994657565928, 0.747000467171683, 0.8028378426558499, 0.8487961682732315, 0.8442670335862019, 0.8246518557150122, 0.8046238390980418, 0.8497078293601026, 0.8494604912561572, 0.8561234394475987, 0.8865252195490145, 0.8223131082125263, 0.8425474821716414, 0.8445574573443535, 0.8675483920037093, 0.6224000000000001, 0.8566209704224076, 0.8452081548743954]}, {\"categories\": [\"0\", \"1\", \"2\", \"3\", \"4\", \"5\", \"6\", \"7\", \"8\", \"9\", \"10\", \"11\", \"12\", \"13\", \"14\", \"15\", \"16\", \"17\", \"18\", \"19\", \"20\", \"21\", \"22\", \"23\", \"24\", \"25\", \"26\", \"27\", \"28\", \"29\", \"30\", \"32\", \"33\"], \"mode\": \"lines\", \"name\": \"average_precision_score_micro_max\", \"stepped\": true, \"type\": \"scatter\", \"data\": [0.8477240253039015, 0.8484042658416646, 0.8484042658416646, 0.8484042658416646, 0.8484042658416646, 0.8484042658416646, 0.8484042658416646, 0.8484042658416646, 0.8484042658416646, 0.8484042658416646, 0.8484042658416646, 0.8484042658416646, 0.8484042658416646, 0.8484042658416646, 0.8484042658416646, 0.8484042658416646, 0.8484042658416646, 0.8484042658416646, 0.8487961682732315, 0.8487961682732315, 0.8487961682732315, 0.8487961682732315, 0.8497078293601026, 0.8497078293601026, 0.8561234394475987, 0.8865252195490145, 0.8865252195490145, 0.8865252195490145, 0.8865252195490145, 0.8865252195490145, 0.8865252195490145, 0.8865252195490145, 0.8865252195490145]}], \"precision_score_binary\": [{\"categories\": [\"0\", \"1\", \"2\", \"3\", \"4\", \"5\", \"6\", \"7\", \"8\", \"9\", \"10\", \"11\", \"12\", \"13\", \"14\", \"15\", \"16\", \"17\", \"18\", \"19\", \"20\", \"21\", \"22\", \"23\", \"24\", \"25\", \"26\", \"27\", \"28\", \"29\", \"30\", \"32\", \"33\"], \"mode\": \"markers\", \"name\": \"precision_score_binary\", \"stepped\": false, \"type\": \"scatter\", \"data\": [0.75, 1.0, 0.5, 0.25, 0.0, 0.6666666666666666, 0.6, 0.5, 0.0, 0.5, 0.6666666666666666, 0.75, 0.625, 0.0, 1.0, 0.0, 0.0, 0.75, 0.6666666666666666, 0.6666666666666666, 0.75, 0.6666666666666666, 0.6666666666666666, 0.6666666666666666, 0.6, 0.75, 0.75, 0.6, 0.6, 0.6666666666666666, 0.0, 0.75, 0.6666666666666666]}, {\"categories\": [\"0\", \"1\", \"2\", \"3\", \"4\", \"5\", \"6\", \"7\", \"8\", \"9\", \"10\", \"11\", \"12\", \"13\", \"14\", \"15\", \"16\", \"17\", \"18\", \"19\", \"20\", \"21\", \"22\", \"23\", \"24\", \"25\", \"26\", \"27\", \"28\", \"29\", \"30\", \"32\", \"33\"], \"mode\": \"lines\", \"name\": \"precision_score_binary_max\", \"stepped\": true, \"type\": \"scatter\", \"data\": [0.75, 1.0, 1.0, 1.0, 1.0, 1.0, 1.0, 1.0, 1.0, 1.0, 1.0, 1.0, 1.0, 1.0, 1.0, 1.0, 1.0, 1.0, 1.0, 1.0, 1.0, 1.0, 1.0, 1.0, 1.0, 1.0, 1.0, 1.0, 1.0, 1.0, 1.0, 1.0, 1.0]}], \"weighted_accuracy\": [{\"categories\": [\"0\", \"1\", \"2\", \"3\", \"4\", \"5\", \"6\", \"7\", \"8\", \"9\", \"10\", \"11\", \"12\", \"13\", \"14\", \"15\", \"16\", \"17\", \"18\", \"19\", \"20\", \"21\", \"22\", \"23\", \"24\", \"25\", \"26\", \"27\", \"28\", \"29\", \"30\", \"32\", \"33\"], \"mode\": \"markers\", \"name\": \"weighted_accuracy\", \"stepped\": false, \"type\": \"scatter\", \"data\": [0.838526912181303, 0.8866855524079319, 0.7422096317280453, 0.6968838526912181, 0.5779036827195467, 0.8158640226628894, 0.7903682719546742, 0.7932011331444758, 0.5297450424929179, 0.7932011331444758, 0.8158640226628894, 0.838526912181303, 0.7875354107648725, 0.8186968838526912, 0.8413597733711048, 0.8186968838526912, 0.8186968838526912, 0.838526912181303, 0.8158640226628894, 0.8158640226628894, 0.838526912181303, 0.8158640226628894, 0.8158640226628894, 0.8158640226628894, 0.7903682719546742, 0.838526912181303, 0.838526912181303, 0.7903682719546742, 0.7903682719546742, 0.8158640226628894, 0.8186968838526912, 0.838526912181303, 0.8130311614730877]}, {\"categories\": [\"0\", \"1\", \"2\", \"3\", \"4\", \"5\", \"6\", \"7\", \"8\", \"9\", \"10\", \"11\", \"12\", \"13\", \"14\", \"15\", \"16\", \"17\", \"18\", \"19\", \"20\", \"21\", \"22\", \"23\", \"24\", \"25\", \"26\", \"27\", \"28\", \"29\", \"30\", \"32\", \"33\"], \"mode\": \"lines\", \"name\": \"weighted_accuracy_max\", \"stepped\": true, \"type\": \"scatter\", \"data\": [0.838526912181303, 0.8866855524079319, 0.8866855524079319, 0.8866855524079319, 0.8866855524079319, 0.8866855524079319, 0.8866855524079319, 0.8866855524079319, 0.8866855524079319, 0.8866855524079319, 0.8866855524079319, 0.8866855524079319, 0.8866855524079319, 0.8866855524079319, 0.8866855524079319, 0.8866855524079319, 0.8866855524079319, 0.8866855524079319, 0.8866855524079319, 0.8866855524079319, 0.8866855524079319, 0.8866855524079319, 0.8866855524079319, 0.8866855524079319, 0.8866855524079319, 0.8866855524079319, 0.8866855524079319, 0.8866855524079319, 0.8866855524079319, 0.8866855524079319, 0.8866855524079319, 0.8866855524079319, 0.8866855524079319]}], \"matthews_correlation\": [{\"categories\": [\"0\", \"1\", \"2\", \"3\", \"4\", \"5\", \"6\", \"7\", \"8\", \"9\", \"10\", \"11\", \"12\", \"13\", \"14\", \"15\", \"16\", \"17\", \"18\", \"19\", \"20\", \"21\", \"22\", \"23\", \"24\", \"25\", \"26\", \"27\", \"28\", \"29\", \"30\", \"32\", \"33\"], \"mode\": \"markers\", \"name\": \"matthews_correlation\", \"stepped\": false, \"type\": \"scatter\", \"data\": [0.40230863885375184, 0.5383054219239551, 0.21684124109359199, -0.06549210399944798, -0.3429971702850177, 0.2744302150984869, 0.3001225239993905, 0.11378739092043906, -0.38549553972194134, 0.11378739092043906, 0.2744302150984869, 0.40230863885375184, 0.4485294117647059, 0.0, 0.2975595178559521, 0.0, 0.0, 0.40230863885375184, 0.2744302150984869, 0.2744302150984869, 0.40230863885375184, 0.2744302150984869, 0.2744302150984869, 0.2744302150984869, 0.3001225239993905, 0.40230863885375184, 0.40230863885375184, 0.3001225239993905, 0.3001225239993905, 0.2744302150984869, 0.0, 0.40230863885375184, 0.4176201680321031]}, {\"categories\": [\"0\", \"1\", \"2\", \"3\", \"4\", \"5\", \"6\", \"7\", \"8\", \"9\", \"10\", \"11\", \"12\", \"13\", \"14\", \"15\", \"16\", \"17\", \"18\", \"19\", \"20\", \"21\", \"22\", \"23\", \"24\", \"25\", \"26\", \"27\", \"28\", \"29\", \"30\", \"32\", \"33\"], \"mode\": \"lines\", \"name\": \"matthews_correlation_max\", \"stepped\": true, \"type\": \"scatter\", \"data\": [0.40230863885375184, 0.5383054219239551, 0.5383054219239551, 0.5383054219239551, 0.5383054219239551, 0.5383054219239551, 0.5383054219239551, 0.5383054219239551, 0.5383054219239551, 0.5383054219239551, 0.5383054219239551, 0.5383054219239551, 0.5383054219239551, 0.5383054219239551, 0.5383054219239551, 0.5383054219239551, 0.5383054219239551, 0.5383054219239551, 0.5383054219239551, 0.5383054219239551, 0.5383054219239551, 0.5383054219239551, 0.5383054219239551, 0.5383054219239551, 0.5383054219239551, 0.5383054219239551, 0.5383054219239551, 0.5383054219239551, 0.5383054219239551, 0.5383054219239551, 0.5383054219239551, 0.5383054219239551, 0.5383054219239551]}], \"f1_score_weighted\": [{\"categories\": [\"0\", \"1\", \"2\", \"3\", \"4\", \"5\", \"6\", \"7\", \"8\", \"9\", \"10\", \"11\", \"12\", \"13\", \"14\", \"15\", \"16\", \"17\", \"18\", \"19\", \"20\", \"21\", \"22\", \"23\", \"24\", \"25\", \"26\", \"27\", \"28\", \"29\", \"30\", \"32\", \"33\"], \"mode\": \"markers\", \"name\": \"f1_score_weighted\", \"stepped\": false, \"type\": \"scatter\", \"data\": [0.7326315789473683, 0.7673659673659674, 0.6660317460317461, 0.5543859649122806, 0.4410810810810811, 0.6743123543123544, 0.6990436590436591, 0.608, 0.4155555555555556, 0.608, 0.6743123543123544, 0.7326315789473683, 0.76, 0.5504761904761906, 0.6350135501355014, 0.5504761904761906, 0.5504761904761906, 0.7326315789473683, 0.6743123543123544, 0.6743123543123544, 0.7326315789473683, 0.6743123543123544, 0.6743123543123544, 0.6743123543123544, 0.6990436590436591, 0.7326315789473683, 0.7326315789473683, 0.6990436590436591, 0.6990436590436591, 0.6743123543123544, 0.5504761904761906, 0.7326315789473683, 0.7495238095238095]}, {\"categories\": [\"0\", \"1\", \"2\", \"3\", \"4\", \"5\", \"6\", \"7\", \"8\", \"9\", \"10\", \"11\", \"12\", \"13\", \"14\", \"15\", \"16\", \"17\", \"18\", \"19\", \"20\", \"21\", \"22\", \"23\", \"24\", \"25\", \"26\", \"27\", \"28\", \"29\", \"30\", \"32\", \"33\"], \"mode\": \"lines\", \"name\": \"f1_score_weighted_max\", \"stepped\": true, \"type\": \"scatter\", \"data\": [0.7326315789473683, 0.7673659673659674, 0.7673659673659674, 0.7673659673659674, 0.7673659673659674, 0.7673659673659674, 0.7673659673659674, 0.7673659673659674, 0.7673659673659674, 0.7673659673659674, 0.7673659673659674, 0.7673659673659674, 0.7673659673659674, 0.7673659673659674, 0.7673659673659674, 0.7673659673659674, 0.7673659673659674, 0.7673659673659674, 0.7673659673659674, 0.7673659673659674, 0.7673659673659674, 0.7673659673659674, 0.7673659673659674, 0.7673659673659674, 0.7673659673659674, 0.7673659673659674, 0.7673659673659674, 0.7673659673659674, 0.7673659673659674, 0.7673659673659674, 0.7673659673659674, 0.7673659673659674, 0.7673659673659674]}], \"log_loss\": [{\"categories\": [\"0\", \"1\", \"2\", \"3\", \"4\", \"5\", \"6\", \"7\", \"8\", \"9\", \"10\", \"11\", \"12\", \"13\", \"14\", \"15\", \"16\", \"17\", \"18\", \"19\", \"20\", \"21\", \"22\", \"23\", \"24\", \"25\", \"26\", \"27\", \"28\", \"29\", \"30\", \"32\", \"33\"], \"mode\": \"markers\", \"name\": \"log_loss\", \"stepped\": false, \"type\": \"scatter\", \"data\": [0.7794298331095867, 0.7083486933636176, 0.5691687749155343, 0.5621187572845671, 3.5371001669544144, 0.5626485732625403, 0.5506349972814546, 0.5642302756614568, 2.16977977411942, 0.6275598034148921, 0.5525873954290681, 0.5238475015205175, 0.560378434016442, 0.6434701673900045, 3.1627982808143544, 4.603084514282239, 1.9193589527965427, 0.575836228989678, 0.5629641619934896, 0.5699637013765186, 0.6200762826509443, 0.5561515001338478, 0.4835343097614732, 0.5576272646692441, 0.5191128866057891, 0.4608864070310559, 0.605990273288567, 0.6786169053553762, 0.6707090728209464, 0.5253837212287666, 0.6343396294210369, 0.5257064923736559, 0.5447475987017159]}, {\"categories\": [\"0\", \"1\", \"2\", \"3\", \"4\", \"5\", \"6\", \"7\", \"8\", \"9\", \"10\", \"11\", \"12\", \"13\", \"14\", \"15\", \"16\", \"17\", \"18\", \"19\", \"20\", \"21\", \"22\", \"23\", \"24\", \"25\", \"26\", \"27\", \"28\", \"29\", \"30\", \"32\", \"33\"], \"mode\": \"lines\", \"name\": \"log_loss_min\", \"stepped\": true, \"type\": \"scatter\", \"data\": [0.7794298331095867, 0.7083486933636176, 0.5691687749155343, 0.5621187572845671, 0.5621187572845671, 0.5621187572845671, 0.5506349972814546, 0.5506349972814546, 0.5506349972814546, 0.5506349972814546, 0.5506349972814546, 0.5238475015205175, 0.5238475015205175, 0.5238475015205175, 0.5238475015205175, 0.5238475015205175, 0.5238475015205175, 0.5238475015205175, 0.5238475015205175, 0.5238475015205175, 0.5238475015205175, 0.5238475015205175, 0.4835343097614732, 0.4835343097614732, 0.4835343097614732, 0.4608864070310559, 0.4608864070310559, 0.4608864070310559, 0.4608864070310559, 0.4608864070310559, 0.4608864070310559, 0.4608864070310559, 0.4608864070310559]}], \"recall_score_weighted\": [{\"categories\": [\"0\", \"1\", \"2\", \"3\", \"4\", \"5\", \"6\", \"7\", \"8\", \"9\", \"10\", \"11\", \"12\", \"13\", \"14\", \"15\", \"16\", \"17\", \"18\", \"19\", \"20\", \"21\", \"22\", \"23\", \"24\", \"25\", \"26\", \"27\", \"28\", \"29\", \"30\", \"32\", \"33\"], \"mode\": \"markers\", \"name\": \"recall_score_weighted\", \"stepped\": false, \"type\": \"scatter\", \"data\": [0.76, 0.8, 0.68, 0.6, 0.48, 0.72, 0.72, 0.68, 0.44, 0.68, 0.72, 0.76, 0.76, 0.68, 0.72, 0.68, 0.68, 0.76, 0.72, 0.72, 0.76, 0.72, 0.72, 0.72, 0.72, 0.76, 0.76, 0.72, 0.72, 0.72, 0.68, 0.76, 0.76]}, {\"categories\": [\"0\", \"1\", \"2\", \"3\", \"4\", \"5\", \"6\", \"7\", \"8\", \"9\", \"10\", \"11\", \"12\", \"13\", \"14\", \"15\", \"16\", \"17\", \"18\", \"19\", \"20\", \"21\", \"22\", \"23\", \"24\", \"25\", \"26\", \"27\", \"28\", \"29\", \"30\", \"32\", \"33\"], \"mode\": \"lines\", \"name\": \"recall_score_weighted_max\", \"stepped\": true, \"type\": \"scatter\", \"data\": [0.76, 0.8, 0.8, 0.8, 0.8, 0.8, 0.8, 0.8, 0.8, 0.8, 0.8, 0.8, 0.8, 0.8, 0.8, 0.8, 0.8, 0.8, 0.8, 0.8, 0.8, 0.8, 0.8, 0.8, 0.8, 0.8, 0.8, 0.8, 0.8, 0.8, 0.8, 0.8, 0.8]}], \"AUC_micro\": [{\"categories\": [\"0\", \"1\", \"2\", \"3\", \"4\", \"5\", \"6\", \"7\", \"8\", \"9\", \"10\", \"11\", \"12\", \"13\", \"14\", \"15\", \"16\", \"17\", \"18\", \"19\", \"20\", \"21\", \"22\", \"23\", \"24\", \"25\", \"26\", \"27\", \"28\", \"29\", \"30\", \"32\", \"33\"], \"mode\": \"markers\", \"name\": \"AUC_micro\", \"stepped\": false, \"type\": \"scatter\", \"data\": [0.8304, 0.8352, 0.7856, 0.7792, 0.5695999999999999, 0.8256, 0.8288, 0.8, 0.5871999999999999, 0.776, 0.7968000000000001, 0.8272, 0.792, 0.7632000000000001, 0.7584, 0.6544, 0.7648, 0.7856000000000001, 0.8271999999999999, 0.8224, 0.8111999999999999, 0.8096, 0.8288, 0.8288, 0.8384, 0.872, 0.8112, 0.8256000000000001, 0.8256000000000001, 0.848, 0.68, 0.8432, 0.8463999999999999]}, {\"categories\": [\"0\", \"1\", \"2\", \"3\", \"4\", \"5\", \"6\", \"7\", \"8\", \"9\", \"10\", \"11\", \"12\", \"13\", \"14\", \"15\", \"16\", \"17\", \"18\", \"19\", \"20\", \"21\", \"22\", \"23\", \"24\", \"25\", \"26\", \"27\", \"28\", \"29\", \"30\", \"32\", \"33\"], \"mode\": \"lines\", \"name\": \"AUC_micro_max\", \"stepped\": true, \"type\": \"scatter\", \"data\": [0.8304, 0.8352, 0.8352, 0.8352, 0.8352, 0.8352, 0.8352, 0.8352, 0.8352, 0.8352, 0.8352, 0.8352, 0.8352, 0.8352, 0.8352, 0.8352, 0.8352, 0.8352, 0.8352, 0.8352, 0.8352, 0.8352, 0.8352, 0.8352, 0.8384, 0.872, 0.872, 0.872, 0.872, 0.872, 0.872, 0.872, 0.872]}], \"average_precision_score_macro\": [{\"categories\": [\"0\", \"1\", \"2\", \"3\", \"4\", \"5\", \"6\", \"7\", \"8\", \"9\", \"10\", \"11\", \"12\", \"13\", \"14\", \"15\", \"16\", \"17\", \"18\", \"19\", \"20\", \"21\", \"22\", \"23\", \"24\", \"25\", \"26\", \"27\", \"28\", \"29\", \"30\", \"32\", \"33\"], \"mode\": \"markers\", \"name\": \"average_precision_score_macro\", \"stepped\": false, \"type\": \"scatter\", \"data\": [0.802657905287381, 0.820164144174741, 0.7434893654338282, 0.7310625826290787, 0.4889814518654832, 0.7813955652190947, 0.7897529652801063, 0.7170777768526926, 0.5035606296214217, 0.7058636847884433, 0.724231076983934, 0.7620764424028288, 0.7341871345404424, 0.700861964832553, 0.6567523014070329, 0.4849057449261983, 0.6900643944466345, 0.7297742021909979, 0.7849901762324363, 0.7802836695038708, 0.7936987743729742, 0.7517870326268159, 0.7784863366881101, 0.7799804800462695, 0.8142587625054982, 0.8458604022872851, 0.7895278199012434, 0.7855004221338362, 0.7873863844687149, 0.8011171810759203, 0.5, 0.8213827965596794, 0.8444985540720633]}, {\"categories\": [\"0\", \"1\", \"2\", \"3\", \"4\", \"5\", \"6\", \"7\", \"8\", \"9\", \"10\", \"11\", \"12\", \"13\", \"14\", \"15\", \"16\", \"17\", \"18\", \"19\", \"20\", \"21\", \"22\", \"23\", \"24\", \"25\", \"26\", \"27\", \"28\", \"29\", \"30\", \"32\", \"33\"], \"mode\": \"lines\", \"name\": \"average_precision_score_macro_max\", \"stepped\": true, \"type\": \"scatter\", \"data\": [0.802657905287381, 0.820164144174741, 0.820164144174741, 0.820164144174741, 0.820164144174741, 0.820164144174741, 0.820164144174741, 0.820164144174741, 0.820164144174741, 0.820164144174741, 0.820164144174741, 0.820164144174741, 0.820164144174741, 0.820164144174741, 0.820164144174741, 0.820164144174741, 0.820164144174741, 0.820164144174741, 0.820164144174741, 0.820164144174741, 0.820164144174741, 0.820164144174741, 0.820164144174741, 0.820164144174741, 0.820164144174741, 0.8458604022872851, 0.8458604022872851, 0.8458604022872851, 0.8458604022872851, 0.8458604022872851, 0.8458604022872851, 0.8458604022872851, 0.8458604022872851]}], \"AUC_binary\": [{\"categories\": [\"0\", \"1\", \"2\", \"3\", \"4\", \"5\", \"6\", \"7\", \"8\", \"9\", \"10\", \"11\", \"12\", \"13\", \"14\", \"15\", \"16\", \"17\", \"18\", \"19\", \"20\", \"21\", \"22\", \"23\", \"24\", \"25\", \"26\", \"27\", \"28\", \"29\", \"30\", \"32\", \"33\"], \"mode\": \"markers\", \"name\": \"AUC_binary\", \"stepped\": false, \"type\": \"scatter\", \"data\": [0.8088235294117647, 0.8161764705882353, 0.7205882352941176, 0.75, 0.43382352941176466, 0.8088235294117647, 0.7647058823529411, 0.7683823529411764, 0.4632352941176471, 0.713235294117647, 0.7426470588235294, 0.8014705882352942, 0.7132352941176471, 0.6911764705882353, 0.6764705882352942, 0.4411764705882353, 0.6948529411764706, 0.7205882352941176, 0.8419117647058822, 0.8308823529411765, 0.7720588235294117, 0.8014705882352942, 0.8088235294117646, 0.8308823529411764, 0.8308823529411764, 0.8676470588235293, 0.7647058823529411, 0.7867647058823529, 0.7941176470588235, 0.8602941176470588, 0.5, 0.8308823529411764, 0.8602941176470588]}, {\"categories\": [\"0\", \"1\", \"2\", \"3\", \"4\", \"5\", \"6\", \"7\", \"8\", \"9\", \"10\", \"11\", \"12\", \"13\", \"14\", \"15\", \"16\", \"17\", \"18\", \"19\", \"20\", \"21\", \"22\", \"23\", \"24\", \"25\", \"26\", \"27\", \"28\", \"29\", \"30\", \"32\", \"33\"], \"mode\": \"lines\", \"name\": \"AUC_binary_max\", \"stepped\": true, \"type\": \"scatter\", \"data\": [0.8088235294117647, 0.8161764705882353, 0.8161764705882353, 0.8161764705882353, 0.8161764705882353, 0.8161764705882353, 0.8161764705882353, 0.8161764705882353, 0.8161764705882353, 0.8161764705882353, 0.8161764705882353, 0.8161764705882353, 0.8161764705882353, 0.8161764705882353, 0.8161764705882353, 0.8161764705882353, 0.8161764705882353, 0.8161764705882353, 0.8419117647058822, 0.8419117647058822, 0.8419117647058822, 0.8419117647058822, 0.8419117647058822, 0.8419117647058822, 0.8419117647058822, 0.8676470588235293, 0.8676470588235293, 0.8676470588235293, 0.8676470588235293, 0.8676470588235293, 0.8676470588235293, 0.8676470588235293, 0.8676470588235293]}], \"recall_score_binary\": [{\"categories\": [\"0\", \"1\", \"2\", \"3\", \"4\", \"5\", \"6\", \"7\", \"8\", \"9\", \"10\", \"11\", \"12\", \"13\", \"14\", \"15\", \"16\", \"17\", \"18\", \"19\", \"20\", \"21\", \"22\", \"23\", \"24\", \"25\", \"26\", \"27\", \"28\", \"29\", \"30\", \"32\", \"33\"], \"mode\": \"markers\", \"name\": \"recall_score_binary\", \"stepped\": false, \"type\": \"scatter\", \"data\": [0.375, 0.375, 0.375, 0.125, 0.0, 0.25, 0.375, 0.125, 0.0, 0.125, 0.25, 0.375, 0.625, 0.0, 0.125, 0.0, 0.0, 0.375, 0.25, 0.25, 0.375, 0.25, 0.25, 0.25, 0.375, 0.375, 0.375, 0.375, 0.375, 0.25, 0.0, 0.375, 0.5]}, {\"categories\": [\"0\", \"1\", \"2\", \"3\", \"4\", \"5\", \"6\", \"7\", \"8\", \"9\", \"10\", \"11\", \"12\", \"13\", \"14\", \"15\", \"16\", \"17\", \"18\", \"19\", \"20\", \"21\", \"22\", \"23\", \"24\", \"25\", \"26\", \"27\", \"28\", \"29\", \"30\", \"32\", \"33\"], \"mode\": \"lines\", \"name\": \"recall_score_binary_max\", \"stepped\": true, \"type\": \"scatter\", \"data\": [0.375, 0.375, 0.375, 0.375, 0.375, 0.375, 0.375, 0.375, 0.375, 0.375, 0.375, 0.375, 0.625, 0.625, 0.625, 0.625, 0.625, 0.625, 0.625, 0.625, 0.625, 0.625, 0.625, 0.625, 0.625, 0.625, 0.625, 0.625, 0.625, 0.625, 0.625, 0.625, 0.625]}], \"AUC_weighted\": [{\"categories\": [\"0\", \"1\", \"2\", \"3\", \"4\", \"5\", \"6\", \"7\", \"8\", \"9\", \"10\", \"11\", \"12\", \"13\", \"14\", \"15\", \"16\", \"17\", \"18\", \"19\", \"20\", \"21\", \"22\", \"23\", \"24\", \"25\", \"26\", \"27\", \"28\", \"29\", \"30\", \"32\", \"33\"], \"mode\": \"markers\", \"name\": \"AUC_weighted\", \"stepped\": false, \"type\": \"scatter\", \"data\": [0.8088235294117646, 0.8161764705882354, 0.7205882352941175, 0.75, 0.4338235294117647, 0.8088235294117646, 0.7647058823529411, 0.7683823529411764, 0.4632352941176471, 0.713235294117647, 0.7426470588235294, 0.8014705882352942, 0.713235294117647, 0.6911764705882354, 0.6764705882352942, 0.4411764705882353, 0.6948529411764706, 0.7205882352941176, 0.8419117647058824, 0.8308823529411764, 0.7720588235294117, 0.8014705882352942, 0.8088235294117648, 0.8308823529411764, 0.8308823529411764, 0.8676470588235294, 0.7647058823529411, 0.7867647058823529, 0.7941176470588236, 0.8602941176470587, 0.5, 0.8308823529411764, 0.8602941176470589]}, {\"categories\": [\"0\", \"1\", \"2\", \"3\", \"4\", \"5\", \"6\", \"7\", \"8\", \"9\", \"10\", \"11\", \"12\", \"13\", \"14\", \"15\", \"16\", \"17\", \"18\", \"19\", \"20\", \"21\", \"22\", \"23\", \"24\", \"25\", \"26\", \"27\", \"28\", \"29\", \"30\", \"32\", \"33\"], \"mode\": \"lines\", \"name\": \"AUC_weighted_max\", \"stepped\": true, \"type\": \"scatter\", \"data\": [0.8088235294117646, 0.8161764705882354, 0.8161764705882354, 0.8161764705882354, 0.8161764705882354, 0.8161764705882354, 0.8161764705882354, 0.8161764705882354, 0.8161764705882354, 0.8161764705882354, 0.8161764705882354, 0.8161764705882354, 0.8161764705882354, 0.8161764705882354, 0.8161764705882354, 0.8161764705882354, 0.8161764705882354, 0.8161764705882354, 0.8419117647058824, 0.8419117647058824, 0.8419117647058824, 0.8419117647058824, 0.8419117647058824, 0.8419117647058824, 0.8419117647058824, 0.8676470588235294, 0.8676470588235294, 0.8676470588235294, 0.8676470588235294, 0.8676470588235294, 0.8676470588235294, 0.8676470588235294, 0.8676470588235294]}], \"balanced_accuracy\": [{\"categories\": [\"0\", \"1\", \"2\", \"3\", \"4\", \"5\", \"6\", \"7\", \"8\", \"9\", \"10\", \"11\", \"12\", \"13\", \"14\", \"15\", \"16\", \"17\", \"18\", \"19\", \"20\", \"21\", \"22\", \"23\", \"24\", \"25\", \"26\", \"27\", \"28\", \"29\", \"30\", \"32\", \"33\"], \"mode\": \"markers\", \"name\": \"balanced_accuracy\", \"stepped\": false, \"type\": \"scatter\", \"data\": [0.6580882352941176, 0.6875, 0.5992647058823529, 0.4742647058823529, 0.35294117647058826, 0.5955882352941176, 0.6286764705882353, 0.5330882352941176, 0.3235294117647059, 0.5330882352941176, 0.5955882352941176, 0.6580882352941176, 0.7242647058823529, 0.5, 0.5625, 0.5, 0.5, 0.6580882352941176, 0.5955882352941176, 0.5955882352941176, 0.6580882352941176, 0.5955882352941176, 0.5955882352941176, 0.5955882352941176, 0.6286764705882353, 0.6580882352941176, 0.6580882352941176, 0.6286764705882353, 0.6286764705882353, 0.5955882352941176, 0.5, 0.6580882352941176, 0.6911764705882353]}, {\"categories\": [\"0\", \"1\", \"2\", \"3\", \"4\", \"5\", \"6\", \"7\", \"8\", \"9\", \"10\", \"11\", \"12\", \"13\", \"14\", \"15\", \"16\", \"17\", \"18\", \"19\", \"20\", \"21\", \"22\", \"23\", \"24\", \"25\", \"26\", \"27\", \"28\", \"29\", \"30\", \"32\", \"33\"], \"mode\": \"lines\", \"name\": \"balanced_accuracy_max\", \"stepped\": true, \"type\": \"scatter\", \"data\": [0.6580882352941176, 0.6875, 0.6875, 0.6875, 0.6875, 0.6875, 0.6875, 0.6875, 0.6875, 0.6875, 0.6875, 0.6875, 0.7242647058823529, 0.7242647058823529, 0.7242647058823529, 0.7242647058823529, 0.7242647058823529, 0.7242647058823529, 0.7242647058823529, 0.7242647058823529, 0.7242647058823529, 0.7242647058823529, 0.7242647058823529, 0.7242647058823529, 0.7242647058823529, 0.7242647058823529, 0.7242647058823529, 0.7242647058823529, 0.7242647058823529, 0.7242647058823529, 0.7242647058823529, 0.7242647058823529, 0.7242647058823529]}], \"precision_score_macro\": [{\"categories\": [\"0\", \"1\", \"2\", \"3\", \"4\", \"5\", \"6\", \"7\", \"8\", \"9\", \"10\", \"11\", \"12\", \"13\", \"14\", \"15\", \"16\", \"17\", \"18\", \"19\", \"20\", \"21\", \"22\", \"23\", \"24\", \"25\", \"26\", \"27\", \"28\", \"29\", \"30\", \"32\", \"33\"], \"mode\": \"markers\", \"name\": \"precision_score_macro\", \"stepped\": false, \"type\": \"scatter\", \"data\": [0.7559523809523809, 0.8863636363636364, 0.618421052631579, 0.4583333333333333, 0.3, 0.696969696969697, 0.675, 0.5978260869565217, 0.2894736842105263, 0.5978260869565217, 0.696969696969697, 0.7559523809523809, 0.7242647058823529, 0.34, 0.8541666666666667, 0.34, 0.34, 0.7559523809523809, 0.696969696969697, 0.696969696969697, 0.7559523809523809, 0.696969696969697, 0.696969696969697, 0.696969696969697, 0.675, 0.7559523809523809, 0.7559523809523809, 0.675, 0.675, 0.696969696969697, 0.34, 0.7559523809523809, 0.7280701754385965]}, {\"categories\": [\"0\", \"1\", \"2\", \"3\", \"4\", \"5\", \"6\", \"7\", \"8\", \"9\", \"10\", \"11\", \"12\", \"13\", \"14\", \"15\", \"16\", \"17\", \"18\", \"19\", \"20\", \"21\", \"22\", \"23\", \"24\", \"25\", \"26\", \"27\", \"28\", \"29\", \"30\", \"32\", \"33\"], \"mode\": \"lines\", \"name\": \"precision_score_macro_max\", \"stepped\": true, \"type\": \"scatter\", \"data\": [0.7559523809523809, 0.8863636363636364, 0.8863636363636364, 0.8863636363636364, 0.8863636363636364, 0.8863636363636364, 0.8863636363636364, 0.8863636363636364, 0.8863636363636364, 0.8863636363636364, 0.8863636363636364, 0.8863636363636364, 0.8863636363636364, 0.8863636363636364, 0.8863636363636364, 0.8863636363636364, 0.8863636363636364, 0.8863636363636364, 0.8863636363636364, 0.8863636363636364, 0.8863636363636364, 0.8863636363636364, 0.8863636363636364, 0.8863636363636364, 0.8863636363636364, 0.8863636363636364, 0.8863636363636364, 0.8863636363636364, 0.8863636363636364, 0.8863636363636364, 0.8863636363636364, 0.8863636363636364, 0.8863636363636364]}], \"norm_macro_recall\": [{\"categories\": [\"0\", \"1\", \"2\", \"3\", \"4\", \"5\", \"6\", \"7\", \"8\", \"9\", \"10\", \"11\", \"12\", \"13\", \"14\", \"15\", \"16\", \"17\", \"18\", \"19\", \"20\", \"21\", \"22\", \"23\", \"24\", \"25\", \"26\", \"27\", \"28\", \"29\", \"30\", \"32\", \"33\"], \"mode\": \"markers\", \"name\": \"norm_macro_recall\", \"stepped\": false, \"type\": \"scatter\", \"data\": [0.3161764705882353, 0.375, 0.19852941176470584, 0.0, 0.0, 0.19117647058823528, 0.25735294117647056, 0.06617647058823528, 0.0, 0.06617647058823528, 0.19117647058823528, 0.3161764705882353, 0.44852941176470584, 0.0, 0.125, 0.0, 0.0, 0.3161764705882353, 0.19117647058823528, 0.19117647058823528, 0.3161764705882353, 0.19117647058823528, 0.19117647058823528, 0.19117647058823528, 0.25735294117647056, 0.3161764705882353, 0.3161764705882353, 0.25735294117647056, 0.25735294117647056, 0.19117647058823528, 0.0, 0.3161764705882353, 0.38235294117647056]}, {\"categories\": [\"0\", \"1\", \"2\", \"3\", \"4\", \"5\", \"6\", \"7\", \"8\", \"9\", \"10\", \"11\", \"12\", \"13\", \"14\", \"15\", \"16\", \"17\", \"18\", \"19\", \"20\", \"21\", \"22\", \"23\", \"24\", \"25\", \"26\", \"27\", \"28\", \"29\", \"30\", \"32\", \"33\"], \"mode\": \"lines\", \"name\": \"norm_macro_recall_max\", \"stepped\": true, \"type\": \"scatter\", \"data\": [0.3161764705882353, 0.375, 0.375, 0.375, 0.375, 0.375, 0.375, 0.375, 0.375, 0.375, 0.375, 0.375, 0.44852941176470584, 0.44852941176470584, 0.44852941176470584, 0.44852941176470584, 0.44852941176470584, 0.44852941176470584, 0.44852941176470584, 0.44852941176470584, 0.44852941176470584, 0.44852941176470584, 0.44852941176470584, 0.44852941176470584, 0.44852941176470584, 0.44852941176470584, 0.44852941176470584, 0.44852941176470584, 0.44852941176470584, 0.44852941176470584, 0.44852941176470584, 0.44852941176470584, 0.44852941176470584]}], \"precision_score_weighted\": [{\"categories\": [\"0\", \"1\", \"2\", \"3\", \"4\", \"5\", \"6\", \"7\", \"8\", \"9\", \"10\", \"11\", \"12\", \"13\", \"14\", \"15\", \"16\", \"17\", \"18\", \"19\", \"20\", \"21\", \"22\", \"23\", \"24\", \"25\", \"26\", \"27\", \"28\", \"29\", \"30\", \"32\", \"33\"], \"mode\": \"markers\", \"name\": \"precision_score_weighted\", \"stepped\": false, \"type\": \"scatter\", \"data\": [0.7580952380952382, 0.8454545454545455, 0.6610526315789474, 0.5333333333333333, 0.408, 0.7078787878787878, 0.7020000000000001, 0.6330434782608695, 0.3936842105263158, 0.6330434782608695, 0.7078787878787878, 0.7580952380952382, 0.76, 0.46240000000000003, 0.8016666666666667, 0.46240000000000003, 0.46240000000000003, 0.7580952380952382, 0.7078787878787878, 0.7078787878787878, 0.7580952380952382, 0.7078787878787878, 0.7078787878787878, 0.7078787878787878, 0.7020000000000001, 0.7580952380952382, 0.7580952380952382, 0.7020000000000001, 0.7020000000000001, 0.7078787878787878, 0.46240000000000003, 0.7580952380952382, 0.7501754385964913]}, {\"categories\": [\"0\", \"1\", \"2\", \"3\", \"4\", \"5\", \"6\", \"7\", \"8\", \"9\", \"10\", \"11\", \"12\", \"13\", \"14\", \"15\", \"16\", \"17\", \"18\", \"19\", \"20\", \"21\", \"22\", \"23\", \"24\", \"25\", \"26\", \"27\", \"28\", \"29\", \"30\", \"32\", \"33\"], \"mode\": \"lines\", \"name\": \"precision_score_weighted_max\", \"stepped\": true, \"type\": \"scatter\", \"data\": [0.7580952380952382, 0.8454545454545455, 0.8454545454545455, 0.8454545454545455, 0.8454545454545455, 0.8454545454545455, 0.8454545454545455, 0.8454545454545455, 0.8454545454545455, 0.8454545454545455, 0.8454545454545455, 0.8454545454545455, 0.8454545454545455, 0.8454545454545455, 0.8454545454545455, 0.8454545454545455, 0.8454545454545455, 0.8454545454545455, 0.8454545454545455, 0.8454545454545455, 0.8454545454545455, 0.8454545454545455, 0.8454545454545455, 0.8454545454545455, 0.8454545454545455, 0.8454545454545455, 0.8454545454545455, 0.8454545454545455, 0.8454545454545455, 0.8454545454545455, 0.8454545454545455, 0.8454545454545455, 0.8454545454545455]}], \"f1_score_binary\": [{\"categories\": [\"0\", \"1\", \"2\", \"3\", \"4\", \"5\", \"6\", \"7\", \"8\", \"9\", \"10\", \"11\", \"12\", \"13\", \"14\", \"15\", \"16\", \"17\", \"18\", \"19\", \"20\", \"21\", \"22\", \"23\", \"24\", \"25\", \"26\", \"27\", \"28\", \"29\", \"30\", \"32\", \"33\"], \"mode\": \"markers\", \"name\": \"f1_score_binary\", \"stepped\": false, \"type\": \"scatter\", \"data\": [0.5, 0.5454545454545454, 0.42857142857142855, 0.16666666666666666, 0.0, 0.36363636363636365, 0.4615384615384615, 0.2, 0.0, 0.2, 0.36363636363636365, 0.5, 0.625, 0.0, 0.2222222222222222, 0.0, 0.0, 0.5, 0.36363636363636365, 0.36363636363636365, 0.5, 0.36363636363636365, 0.36363636363636365, 0.36363636363636365, 0.4615384615384615, 0.5, 0.5, 0.4615384615384615, 0.4615384615384615, 0.36363636363636365, 0.0, 0.5, 0.5714285714285715]}, {\"categories\": [\"0\", \"1\", \"2\", \"3\", \"4\", \"5\", \"6\", \"7\", \"8\", \"9\", \"10\", \"11\", \"12\", \"13\", \"14\", \"15\", \"16\", \"17\", \"18\", \"19\", \"20\", \"21\", \"22\", \"23\", \"24\", \"25\", \"26\", \"27\", \"28\", \"29\", \"30\", \"32\", \"33\"], \"mode\": \"lines\", \"name\": \"f1_score_binary_max\", \"stepped\": true, \"type\": \"scatter\", \"data\": [0.5, 0.5454545454545454, 0.5454545454545454, 0.5454545454545454, 0.5454545454545454, 0.5454545454545454, 0.5454545454545454, 0.5454545454545454, 0.5454545454545454, 0.5454545454545454, 0.5454545454545454, 0.5454545454545454, 0.625, 0.625, 0.625, 0.625, 0.625, 0.625, 0.625, 0.625, 0.625, 0.625, 0.625, 0.625, 0.625, 0.625, 0.625, 0.625, 0.625, 0.625, 0.625, 0.625, 0.625]}], \"f1_score_macro\": [{\"categories\": [\"0\", \"1\", \"2\", \"3\", \"4\", \"5\", \"6\", \"7\", \"8\", \"9\", \"10\", \"11\", \"12\", \"13\", \"14\", \"15\", \"16\", \"17\", \"18\", \"19\", \"20\", \"21\", \"22\", \"23\", \"24\", \"25\", \"26\", \"27\", \"28\", \"29\", \"30\", \"32\", \"33\"], \"mode\": \"markers\", \"name\": \"f1_score_macro\", \"stepped\": false, \"type\": \"scatter\", \"data\": [0.6710526315789473, 0.7086247086247086, 0.6031746031746031, 0.4517543859649122, 0.3243243243243243, 0.592074592074592, 0.6361746361746361, 0.5, 0.30555555555555564, 0.5, 0.592074592074592, 0.6710526315789473, 0.7242647058823529, 0.40476190476190477, 0.5257452574525745, 0.40476190476190477, 0.40476190476190477, 0.6710526315789473, 0.592074592074592, 0.592074592074592, 0.6710526315789473, 0.592074592074592, 0.592074592074592, 0.592074592074592, 0.6361746361746361, 0.6710526315789473, 0.6710526315789473, 0.6361746361746361, 0.6361746361746361, 0.592074592074592, 0.40476190476190477, 0.6710526315789473, 0.7023809523809523]}, {\"categories\": [\"0\", \"1\", \"2\", \"3\", \"4\", \"5\", \"6\", \"7\", \"8\", \"9\", \"10\", \"11\", \"12\", \"13\", \"14\", \"15\", \"16\", \"17\", \"18\", \"19\", \"20\", \"21\", \"22\", \"23\", \"24\", \"25\", \"26\", \"27\", \"28\", \"29\", \"30\", \"32\", \"33\"], \"mode\": \"lines\", \"name\": \"f1_score_macro_max\", \"stepped\": true, \"type\": \"scatter\", \"data\": [0.6710526315789473, 0.7086247086247086, 0.7086247086247086, 0.7086247086247086, 0.7086247086247086, 0.7086247086247086, 0.7086247086247086, 0.7086247086247086, 0.7086247086247086, 0.7086247086247086, 0.7086247086247086, 0.7086247086247086, 0.7242647058823529, 0.7242647058823529, 0.7242647058823529, 0.7242647058823529, 0.7242647058823529, 0.7242647058823529, 0.7242647058823529, 0.7242647058823529, 0.7242647058823529, 0.7242647058823529, 0.7242647058823529, 0.7242647058823529, 0.7242647058823529, 0.7242647058823529, 0.7242647058823529, 0.7242647058823529, 0.7242647058823529, 0.7242647058823529, 0.7242647058823529, 0.7242647058823529, 0.7242647058823529]}], \"AUC_macro\": [{\"categories\": [\"0\", \"1\", \"2\", \"3\", \"4\", \"5\", \"6\", \"7\", \"8\", \"9\", \"10\", \"11\", \"12\", \"13\", \"14\", \"15\", \"16\", \"17\", \"18\", \"19\", \"20\", \"21\", \"22\", \"23\", \"24\", \"25\", \"26\", \"27\", \"28\", \"29\", \"30\", \"32\", \"33\"], \"mode\": \"markers\", \"name\": \"AUC_macro\", \"stepped\": false, \"type\": \"scatter\", \"data\": [0.8088235294117647, 0.8161764705882353, 0.7205882352941175, 0.75, 0.4338235294117647, 0.8088235294117647, 0.7647058823529411, 0.7683823529411764, 0.4632352941176471, 0.713235294117647, 0.7426470588235294, 0.8014705882352942, 0.713235294117647, 0.6911764705882353, 0.6764705882352942, 0.4411764705882353, 0.6948529411764706, 0.7205882352941176, 0.8419117647058822, 0.8308823529411764, 0.7720588235294117, 0.8014705882352942, 0.8088235294117647, 0.8308823529411764, 0.8308823529411764, 0.8676470588235294, 0.7647058823529411, 0.7867647058823529, 0.7941176470588236, 0.8602941176470588, 0.5, 0.8308823529411764, 0.8602941176470589]}, {\"categories\": [\"0\", \"1\", \"2\", \"3\", \"4\", \"5\", \"6\", \"7\", \"8\", \"9\", \"10\", \"11\", \"12\", \"13\", \"14\", \"15\", \"16\", \"17\", \"18\", \"19\", \"20\", \"21\", \"22\", \"23\", \"24\", \"25\", \"26\", \"27\", \"28\", \"29\", \"30\", \"32\", \"33\"], \"mode\": \"lines\", \"name\": \"AUC_macro_max\", \"stepped\": true, \"type\": \"scatter\", \"data\": [0.8088235294117647, 0.8161764705882353, 0.8161764705882353, 0.8161764705882353, 0.8161764705882353, 0.8161764705882353, 0.8161764705882353, 0.8161764705882353, 0.8161764705882353, 0.8161764705882353, 0.8161764705882353, 0.8161764705882353, 0.8161764705882353, 0.8161764705882353, 0.8161764705882353, 0.8161764705882353, 0.8161764705882353, 0.8161764705882353, 0.8419117647058822, 0.8419117647058822, 0.8419117647058822, 0.8419117647058822, 0.8419117647058822, 0.8419117647058822, 0.8419117647058822, 0.8676470588235294, 0.8676470588235294, 0.8676470588235294, 0.8676470588235294, 0.8676470588235294, 0.8676470588235294, 0.8676470588235294, 0.8676470588235294]}], \"precision_score_micro\": [{\"categories\": [\"0\", \"1\", \"2\", \"3\", \"4\", \"5\", \"6\", \"7\", \"8\", \"9\", \"10\", \"11\", \"12\", \"13\", \"14\", \"15\", \"16\", \"17\", \"18\", \"19\", \"20\", \"21\", \"22\", \"23\", \"24\", \"25\", \"26\", \"27\", \"28\", \"29\", \"30\", \"32\", \"33\"], \"mode\": \"markers\", \"name\": \"precision_score_micro\", \"stepped\": false, \"type\": \"scatter\", \"data\": [0.76, 0.8, 0.68, 0.6, 0.48, 0.72, 0.72, 0.68, 0.44, 0.68, 0.72, 0.76, 0.76, 0.68, 0.72, 0.68, 0.68, 0.76, 0.72, 0.72, 0.76, 0.72, 0.72, 0.72, 0.72, 0.76, 0.76, 0.72, 0.72, 0.72, 0.68, 0.76, 0.76]}, {\"categories\": [\"0\", \"1\", \"2\", \"3\", \"4\", \"5\", \"6\", \"7\", \"8\", \"9\", \"10\", \"11\", \"12\", \"13\", \"14\", \"15\", \"16\", \"17\", \"18\", \"19\", \"20\", \"21\", \"22\", \"23\", \"24\", \"25\", \"26\", \"27\", \"28\", \"29\", \"30\", \"32\", \"33\"], \"mode\": \"lines\", \"name\": \"precision_score_micro_max\", \"stepped\": true, \"type\": \"scatter\", \"data\": [0.76, 0.8, 0.8, 0.8, 0.8, 0.8, 0.8, 0.8, 0.8, 0.8, 0.8, 0.8, 0.8, 0.8, 0.8, 0.8, 0.8, 0.8, 0.8, 0.8, 0.8, 0.8, 0.8, 0.8, 0.8, 0.8, 0.8, 0.8, 0.8, 0.8, 0.8, 0.8, 0.8]}], \"recall_score_macro\": [{\"categories\": [\"0\", \"1\", \"2\", \"3\", \"4\", \"5\", \"6\", \"7\", \"8\", \"9\", \"10\", \"11\", \"12\", \"13\", \"14\", \"15\", \"16\", \"17\", \"18\", \"19\", \"20\", \"21\", \"22\", \"23\", \"24\", \"25\", \"26\", \"27\", \"28\", \"29\", \"30\", \"32\", \"33\"], \"mode\": \"markers\", \"name\": \"recall_score_macro\", \"stepped\": false, \"type\": \"scatter\", \"data\": [0.6580882352941176, 0.6875, 0.5992647058823529, 0.4742647058823529, 0.35294117647058826, 0.5955882352941176, 0.6286764705882353, 0.5330882352941176, 0.3235294117647059, 0.5330882352941176, 0.5955882352941176, 0.6580882352941176, 0.7242647058823529, 0.5, 0.5625, 0.5, 0.5, 0.6580882352941176, 0.5955882352941176, 0.5955882352941176, 0.6580882352941176, 0.5955882352941176, 0.5955882352941176, 0.5955882352941176, 0.6286764705882353, 0.6580882352941176, 0.6580882352941176, 0.6286764705882353, 0.6286764705882353, 0.5955882352941176, 0.5, 0.6580882352941176, 0.6911764705882353]}, {\"categories\": [\"0\", \"1\", \"2\", \"3\", \"4\", \"5\", \"6\", \"7\", \"8\", \"9\", \"10\", \"11\", \"12\", \"13\", \"14\", \"15\", \"16\", \"17\", \"18\", \"19\", \"20\", \"21\", \"22\", \"23\", \"24\", \"25\", \"26\", \"27\", \"28\", \"29\", \"30\", \"32\", \"33\"], \"mode\": \"lines\", \"name\": \"recall_score_macro_max\", \"stepped\": true, \"type\": \"scatter\", \"data\": [0.6580882352941176, 0.6875, 0.6875, 0.6875, 0.6875, 0.6875, 0.6875, 0.6875, 0.6875, 0.6875, 0.6875, 0.6875, 0.7242647058823529, 0.7242647058823529, 0.7242647058823529, 0.7242647058823529, 0.7242647058823529, 0.7242647058823529, 0.7242647058823529, 0.7242647058823529, 0.7242647058823529, 0.7242647058823529, 0.7242647058823529, 0.7242647058823529, 0.7242647058823529, 0.7242647058823529, 0.7242647058823529, 0.7242647058823529, 0.7242647058823529, 0.7242647058823529, 0.7242647058823529, 0.7242647058823529, 0.7242647058823529]}], \"recall_score_micro\": [{\"categories\": [\"0\", \"1\", \"2\", \"3\", \"4\", \"5\", \"6\", \"7\", \"8\", \"9\", \"10\", \"11\", \"12\", \"13\", \"14\", \"15\", \"16\", \"17\", \"18\", \"19\", \"20\", \"21\", \"22\", \"23\", \"24\", \"25\", \"26\", \"27\", \"28\", \"29\", \"30\", \"32\", \"33\"], \"mode\": \"markers\", \"name\": \"recall_score_micro\", \"stepped\": false, \"type\": \"scatter\", \"data\": [0.76, 0.8, 0.68, 0.6, 0.48, 0.72, 0.72, 0.68, 0.44, 0.68, 0.72, 0.76, 0.76, 0.68, 0.72, 0.68, 0.68, 0.76, 0.72, 0.72, 0.76, 0.72, 0.72, 0.72, 0.72, 0.76, 0.76, 0.72, 0.72, 0.72, 0.68, 0.76, 0.76]}, {\"categories\": [\"0\", \"1\", \"2\", \"3\", \"4\", \"5\", \"6\", \"7\", \"8\", \"9\", \"10\", \"11\", \"12\", \"13\", \"14\", \"15\", \"16\", \"17\", \"18\", \"19\", \"20\", \"21\", \"22\", \"23\", \"24\", \"25\", \"26\", \"27\", \"28\", \"29\", \"30\", \"32\", \"33\"], \"mode\": \"lines\", \"name\": \"recall_score_micro_max\", \"stepped\": true, \"type\": \"scatter\", \"data\": [0.76, 0.8, 0.8, 0.8, 0.8, 0.8, 0.8, 0.8, 0.8, 0.8, 0.8, 0.8, 0.8, 0.8, 0.8, 0.8, 0.8, 0.8, 0.8, 0.8, 0.8, 0.8, 0.8, 0.8, 0.8, 0.8, 0.8, 0.8, 0.8, 0.8, 0.8, 0.8, 0.8]}], \"average_precision_score_binary\": [{\"categories\": [\"0\", \"1\", \"2\", \"3\", \"4\", \"5\", \"6\", \"7\", \"8\", \"9\", \"10\", \"11\", \"12\", \"13\", \"14\", \"15\", \"16\", \"17\", \"18\", \"19\", \"20\", \"21\", \"22\", \"23\", \"24\", \"25\", \"26\", \"27\", \"28\", \"29\", \"30\", \"32\", \"33\"], \"mode\": \"markers\", \"name\": \"average_precision_score_binary\", \"stepped\": false, \"type\": \"scatter\", \"data\": [0.686779193029193, 0.724475585688821, 0.619171626984127, 0.5620310245310245, 0.2924154950441715, 0.6496965452847806, 0.6916360294117647, 0.605625, 0.31202457630089203, 0.5428349519632414, 0.5816789215686274, 0.614031862745098, 0.6387581168831169, 0.5549603174603175, 0.5073088023088024, 0.3216504329004329, 0.5773015873015873, 0.5875992063492064, 0.6338675213675214, 0.6302398989898991, 0.6957569085326438, 0.6248484848484849, 0.632913961038961, 0.6283730158730159, 0.698989898989899, 0.7450101981351981, 0.6935763888888888, 0.6625, 0.6610847485847486, 0.6555871212121213, 0.32, 0.718349358974359, 0.7467147435897437]}, {\"categories\": [\"0\", \"1\", \"2\", \"3\", \"4\", \"5\", \"6\", \"7\", \"8\", \"9\", \"10\", \"11\", \"12\", \"13\", \"14\", \"15\", \"16\", \"17\", \"18\", \"19\", \"20\", \"21\", \"22\", \"23\", \"24\", \"25\", \"26\", \"27\", \"28\", \"29\", \"30\", \"32\", \"33\"], \"mode\": \"lines\", \"name\": \"average_precision_score_binary_max\", \"stepped\": true, \"type\": \"scatter\", \"data\": [0.686779193029193, 0.724475585688821, 0.724475585688821, 0.724475585688821, 0.724475585688821, 0.724475585688821, 0.724475585688821, 0.724475585688821, 0.724475585688821, 0.724475585688821, 0.724475585688821, 0.724475585688821, 0.724475585688821, 0.724475585688821, 0.724475585688821, 0.724475585688821, 0.724475585688821, 0.724475585688821, 0.724475585688821, 0.724475585688821, 0.724475585688821, 0.724475585688821, 0.724475585688821, 0.724475585688821, 0.724475585688821, 0.7450101981351981, 0.7450101981351981, 0.7450101981351981, 0.7450101981351981, 0.7450101981351981, 0.7450101981351981, 0.7450101981351981, 0.7467147435897437]}], \"average_precision_score_weighted\": [{\"categories\": [\"0\", \"1\", \"2\", \"3\", \"4\", \"5\", \"6\", \"7\", \"8\", \"9\", \"10\", \"11\", \"12\", \"13\", \"14\", \"15\", \"16\", \"17\", \"18\", \"19\", \"20\", \"21\", \"22\", \"23\", \"24\", \"25\", \"26\", \"27\", \"28\", \"29\", \"30\", \"32\", \"33\"], \"mode\": \"markers\", \"name\": \"average_precision_score_weighted\", \"stepped\": false, \"type\": \"scatter\", \"data\": [0.8443742417003287, 0.8546120252296723, 0.7882437512757205, 0.7919139435443782, 0.5597451963211554, 0.8288072123954477, 0.8250750621927093, 0.7572007765196618, 0.5725136088168123, 0.764554028605516, 0.7755498529334443, 0.8153724910796117, 0.7685415808970797, 0.7533865578865578, 0.7105519610823958, 0.5436776572554739, 0.7306590050188515, 0.7809572006940428, 0.8393943319838058, 0.8342994268889007, 0.8289578460754932, 0.7974849098270151, 0.8308923919218038, 0.8345591671486409, 0.8557555533711141, 0.8821664757820364, 0.824070335065691, 0.8297805741020171, 0.8328549733869428, 0.8535080026268881, 0.5648000000000001, 0.8584748340903947, 0.8797007258456984]}, {\"categories\": [\"0\", \"1\", \"2\", \"3\", \"4\", \"5\", \"6\", \"7\", \"8\", \"9\", \"10\", \"11\", \"12\", \"13\", \"14\", \"15\", \"16\", \"17\", \"18\", \"19\", \"20\", \"21\", \"22\", \"23\", \"24\", \"25\", \"26\", \"27\", \"28\", \"29\", \"30\", \"32\", \"33\"], \"mode\": \"lines\", \"name\": \"average_precision_score_weighted_max\", \"stepped\": true, \"type\": \"scatter\", \"data\": [0.8443742417003287, 0.8546120252296723, 0.8546120252296723, 0.8546120252296723, 0.8546120252296723, 0.8546120252296723, 0.8546120252296723, 0.8546120252296723, 0.8546120252296723, 0.8546120252296723, 0.8546120252296723, 0.8546120252296723, 0.8546120252296723, 0.8546120252296723, 0.8546120252296723, 0.8546120252296723, 0.8546120252296723, 0.8546120252296723, 0.8546120252296723, 0.8546120252296723, 0.8546120252296723, 0.8546120252296723, 0.8546120252296723, 0.8546120252296723, 0.8557555533711141, 0.8821664757820364, 0.8821664757820364, 0.8821664757820364, 0.8821664757820364, 0.8821664757820364, 0.8821664757820364, 0.8821664757820364, 0.8821664757820364]}], \"accuracy\": [{\"categories\": [\"0\", \"1\", \"2\", \"3\", \"4\", \"5\", \"6\", \"7\", \"8\", \"9\", \"10\", \"11\", \"12\", \"13\", \"14\", \"15\", \"16\", \"17\", \"18\", \"19\", \"20\", \"21\", \"22\", \"23\", \"24\", \"25\", \"26\", \"27\", \"28\", \"29\", \"30\", \"32\", \"33\"], \"mode\": \"markers\", \"name\": \"accuracy\", \"stepped\": false, \"type\": \"scatter\", \"data\": [0.76, 0.8, 0.68, 0.6, 0.48, 0.72, 0.72, 0.68, 0.44, 0.68, 0.72, 0.76, 0.76, 0.68, 0.72, 0.68, 0.68, 0.76, 0.72, 0.72, 0.76, 0.72, 0.72, 0.72, 0.72, 0.76, 0.76, 0.72, 0.72, 0.72, 0.68, 0.76, 0.76]}, {\"categories\": [\"0\", \"1\", \"2\", \"3\", \"4\", \"5\", \"6\", \"7\", \"8\", \"9\", \"10\", \"11\", \"12\", \"13\", \"14\", \"15\", \"16\", \"17\", \"18\", \"19\", \"20\", \"21\", \"22\", \"23\", \"24\", \"25\", \"26\", \"27\", \"28\", \"29\", \"30\", \"32\", \"33\"], \"mode\": \"lines\", \"name\": \"accuracy_max\", \"stepped\": true, \"type\": \"scatter\", \"data\": [0.76, 0.8, 0.8, 0.8, 0.8, 0.8, 0.8, 0.8, 0.8, 0.8, 0.8, 0.8, 0.8, 0.8, 0.8, 0.8, 0.8, 0.8, 0.8, 0.8, 0.8, 0.8, 0.8, 0.8, 0.8, 0.8, 0.8, 0.8, 0.8, 0.8, 0.8, 0.8, 0.8]}]}, \"metricName\": null, \"primaryMetricName\": \"accuracy\", \"showLegend\": false}, \"run_metrics\": [{\"name\": \"experiment_status\", \"run_id\": \"AutoML_b9bed883-c3eb-42e4-8f1f-db1407c9ac02\", \"categories\": [0, 1, 2, 3, 4, 5, 6, 7, 8, 9, 10, 11, 12], \"series\": [{\"data\": [\"DatasetEvaluation\", \"FeaturesGeneration\", \"DatasetFeaturization\", \"DatasetFeaturizationCompleted\", \"ModelSelection\", \"BestRunExplainModel\", \"ModelExplanationDataSetSetup\", \"PickSurrogateModel\", \"EngineeredFeatureExplanations\", \"EngineeredFeatureExplanations\", \"RawFeaturesExplanations\", \"RawFeaturesExplanations\", \"BestRunExplainModel\"]}]}, {\"name\": \"experiment_status_description\", \"run_id\": \"AutoML_b9bed883-c3eb-42e4-8f1f-db1407c9ac02\", \"categories\": [0, 1, 2, 3, 4, 5, 6, 7, 8, 9, 10, 11, 12], \"series\": [{\"data\": [\"Gathering dataset statistics.\", \"Generating features for the dataset.\", \"Beginning to fit featurizers and featurize the dataset.\", \"Completed fit featurizers and featurizing the dataset.\", \"Beginning model selection.\", \"Best run model explanations started\", \"Model explanations data setup completed\", \"Choosing LightGBM as the surrogate model for explanations\", \"Computation of engineered features started\", \"Computation of engineered features completed\", \"Computation of raw features started\", \"Computation of raw features completed\", \"Best run model explanations completed\"]}]}, {\"name\": \"precision_score_weighted\", \"run_id\": \"AutoML_b9bed883-c3eb-42e4-8f1f-db1407c9ac02\", \"categories\": [0], \"series\": [{\"data\": [0.8454545454545455]}]}, {\"name\": \"recall_score_macro\", \"run_id\": \"AutoML_b9bed883-c3eb-42e4-8f1f-db1407c9ac02\", \"categories\": [0], \"series\": [{\"data\": [0.6875]}]}, {\"name\": \"accuracy\", \"run_id\": \"AutoML_b9bed883-c3eb-42e4-8f1f-db1407c9ac02\", \"categories\": [0], \"series\": [{\"data\": [0.8]}]}, {\"name\": \"precision_score_micro\", \"run_id\": \"AutoML_b9bed883-c3eb-42e4-8f1f-db1407c9ac02\", \"categories\": [0], \"series\": [{\"data\": [0.8]}]}, {\"name\": \"balanced_accuracy\", \"run_id\": \"AutoML_b9bed883-c3eb-42e4-8f1f-db1407c9ac02\", \"categories\": [0], \"series\": [{\"data\": [0.6875]}]}, {\"name\": \"matthews_correlation\", \"run_id\": \"AutoML_b9bed883-c3eb-42e4-8f1f-db1407c9ac02\", \"categories\": [0], \"series\": [{\"data\": [0.5383054219239551]}]}, {\"name\": \"weighted_accuracy\", \"run_id\": \"AutoML_b9bed883-c3eb-42e4-8f1f-db1407c9ac02\", \"categories\": [0], \"series\": [{\"data\": [0.8866855524079319]}]}, {\"name\": \"average_precision_score_micro\", \"run_id\": \"AutoML_b9bed883-c3eb-42e4-8f1f-db1407c9ac02\", \"categories\": [0], \"series\": [{\"data\": [0.8484042658416646]}]}, {\"name\": \"average_precision_score_binary\", \"run_id\": \"AutoML_b9bed883-c3eb-42e4-8f1f-db1407c9ac02\", \"categories\": [0], \"series\": [{\"data\": [0.724475585688821]}]}, {\"name\": \"precision_score_macro\", \"run_id\": \"AutoML_b9bed883-c3eb-42e4-8f1f-db1407c9ac02\", \"categories\": [0], \"series\": [{\"data\": [0.8863636363636364]}]}, {\"name\": \"recall_score_micro\", \"run_id\": \"AutoML_b9bed883-c3eb-42e4-8f1f-db1407c9ac02\", \"categories\": [0], \"series\": [{\"data\": [0.8]}]}, {\"name\": \"average_precision_score_macro\", \"run_id\": \"AutoML_b9bed883-c3eb-42e4-8f1f-db1407c9ac02\", \"categories\": [0], \"series\": [{\"data\": [0.820164144174741]}]}, {\"name\": \"f1_score_micro\", \"run_id\": \"AutoML_b9bed883-c3eb-42e4-8f1f-db1407c9ac02\", \"categories\": [0], \"series\": [{\"data\": [0.8000000000000002]}]}, {\"name\": \"log_loss\", \"run_id\": \"AutoML_b9bed883-c3eb-42e4-8f1f-db1407c9ac02\", \"categories\": [0], \"series\": [{\"data\": [0.7083486933636176]}]}, {\"name\": \"precision_score_binary\", \"run_id\": \"AutoML_b9bed883-c3eb-42e4-8f1f-db1407c9ac02\", \"categories\": [0], \"series\": [{\"data\": [1.0]}]}, {\"name\": \"AUC_micro\", \"run_id\": \"AutoML_b9bed883-c3eb-42e4-8f1f-db1407c9ac02\", \"categories\": [0], \"series\": [{\"data\": [0.8352]}]}, {\"name\": \"AUC_weighted\", \"run_id\": \"AutoML_b9bed883-c3eb-42e4-8f1f-db1407c9ac02\", \"categories\": [0], \"series\": [{\"data\": [0.8161764705882354]}]}, {\"name\": \"f1_score_weighted\", \"run_id\": \"AutoML_b9bed883-c3eb-42e4-8f1f-db1407c9ac02\", \"categories\": [0], \"series\": [{\"data\": [0.7673659673659674]}]}, {\"name\": \"f1_score_macro\", \"run_id\": \"AutoML_b9bed883-c3eb-42e4-8f1f-db1407c9ac02\", \"categories\": [0], \"series\": [{\"data\": [0.7086247086247086]}]}, {\"name\": \"AUC_macro\", \"run_id\": \"AutoML_b9bed883-c3eb-42e4-8f1f-db1407c9ac02\", \"categories\": [0], \"series\": [{\"data\": [0.8161764705882353]}]}, {\"name\": \"norm_macro_recall\", \"run_id\": \"AutoML_b9bed883-c3eb-42e4-8f1f-db1407c9ac02\", \"categories\": [0], \"series\": [{\"data\": [0.375]}]}, {\"name\": \"average_precision_score_weighted\", \"run_id\": \"AutoML_b9bed883-c3eb-42e4-8f1f-db1407c9ac02\", \"categories\": [0], \"series\": [{\"data\": [0.8546120252296723]}]}, {\"name\": \"recall_score_binary\", \"run_id\": \"AutoML_b9bed883-c3eb-42e4-8f1f-db1407c9ac02\", \"categories\": [0], \"series\": [{\"data\": [0.375]}]}, {\"name\": \"AUC_binary\", \"run_id\": \"AutoML_b9bed883-c3eb-42e4-8f1f-db1407c9ac02\", \"categories\": [0], \"series\": [{\"data\": [0.8161764705882353]}]}, {\"name\": \"f1_score_binary\", \"run_id\": \"AutoML_b9bed883-c3eb-42e4-8f1f-db1407c9ac02\", \"categories\": [0], \"series\": [{\"data\": [0.5454545454545454]}]}, {\"name\": \"recall_score_weighted\", \"run_id\": \"AutoML_b9bed883-c3eb-42e4-8f1f-db1407c9ac02\", \"categories\": [0], \"series\": [{\"data\": [0.8]}]}], \"run_logs\": \"\\nRun is completed.\", \"graph\": {}, \"widget_settings\": {\"childWidgetDisplay\": \"popup\", \"send_telemetry\": false, \"log_level\": \"INFO\", \"sdk_version\": \"1.34.0\"}, \"loading\": false}"
          },
          "metadata": {}
        }
      ],
      "execution_count": 4,
      "metadata": {
        "gather": {
          "logged": 1632348737825
        },
        "jupyter": {
          "outputs_hidden": false,
          "source_hidden": false
        },
        "nteract": {
          "transient": {
            "deleting": false
          }
        }
      }
    },
    {
      "cell_type": "markdown",
      "source": [
        "## Best Model\n",
        "\n",
        "TODO: In the cell below, get the best model from the automl experiments and display all the properties of the model.\n",
        "\n"
      ],
      "metadata": {}
    },
    {
      "cell_type": "code",
      "source": [
        "import joblib\r\n",
        "\r\n",
        "best_run, fitted_model = remote_run.get_output()\r\n",
        "print(best_run)\r\n",
        "print(fitted_model)\r\n",
        "\r\n"
      ],
      "outputs": [
        {
          "output_type": "stream",
          "name": "stderr",
          "text": "WARNING:root:The version of the SDK does not match the version the model was trained on.\nWARNING:root:The consistency in the result may not be guaranteed.\nWARNING:root:Package:azureml-automl-core, training version:1.34.0, current version:1.33.0\nPackage:azureml-automl-runtime, training version:1.34.0, current version:1.33.0\nPackage:azureml-core, training version:1.34.0, current version:1.33.0\nPackage:azureml-dataprep, training version:2.22.2, current version:2.20.1\nPackage:azureml-dataprep-rslex, training version:1.20.2, current version:1.18.0\nPackage:azureml-dataset-runtime, training version:1.34.0, current version:1.33.0\nPackage:azureml-defaults, training version:1.34.0, current version:1.33.0\nPackage:azureml-interpret, training version:1.34.0, current version:1.33.0\nPackage:azureml-mlflow, training version:1.34.0, current version:1.33.0\nPackage:azureml-pipeline-core, training version:1.34.0, current version:1.33.0\nPackage:azureml-responsibleai, training version:1.34.0, current version:1.33.0\nPackage:azureml-telemetry, training version:1.34.0, current version:1.33.0\nPackage:azureml-train-automl-client, training version:1.34.0, current version:1.33.0\nPackage:azureml-train-automl-runtime, training version:1.34.0, current version:1.33.0\nWARNING:root:Below packages were used for model training but missing in current environment:\nWARNING:root:Package:azureml-inference-server-http, training version:0.3.1\nWARNING:root:Please ensure the version of your local conda dependencies match the version on which your model was trained in order to properly retrieve your model.\n"
        },
        {
          "output_type": "stream",
          "name": "stdout",
          "text": "Run(Experiment: heart_automl,\nId: AutoML_b9bed883-c3eb-42e4-8f1f-db1407c9ac02_1,\nType: azureml.scriptrun,\nStatus: Completed)\nPipeline(memory=None,\n         steps=[('datatransformer',\n                 DataTransformer(enable_dnn=False, enable_feature_sweeping=True, feature_sweeping_config={}, feature_sweeping_timeout=86400, featurization_config=None, force_text_dnn=False, is_cross_validation=False, is_onnx_compatible=False, observer=None, task='classification', working_dir='/mnt/batch/tasks/shared/LS_root/mounts/clusters/jtgamino11/code/Users/jtgamino1/udacity_capstone')),\n                ('MaxAbsScaler', MaxAbsScaler(copy=True)),\n                ('XGBoostClassifier',\n                 XGBoostClassifier(n_jobs=1, problem_info=ProblemInfo(\n    gpu_training_param_dict={'processing_unit_type': 'cpu'}\n), random_state=0, tree_method='auto'))],\n         verbose=False)\n"
        }
      ],
      "execution_count": 18,
      "metadata": {
        "gather": {
          "logged": 1632334004601
        },
        "jupyter": {
          "outputs_hidden": false,
          "source_hidden": false
        },
        "nteract": {
          "transient": {
            "deleting": false
          }
        }
      }
    },
    {
      "cell_type": "code",
      "source": [
        "best_run.download_file('outputs/model.pkl',output_file_path='outputs/best_automl_model.pkl')"
      ],
      "outputs": [],
      "execution_count": 19,
      "metadata": {
        "jupyter": {
          "source_hidden": false,
          "outputs_hidden": false
        },
        "nteract": {
          "transient": {
            "deleting": false
          }
        },
        "gather": {
          "logged": 1632334024465
        }
      }
    },
    {
      "cell_type": "code",
      "source": [
        "#TODO: Save the best model\r\n",
        "best_run.register_model(model_name=\"best_automl_model\", model_path='./outputs/model.pkl')"
      ],
      "outputs": [
        {
          "output_type": "execute_result",
          "execution_count": 22,
          "data": {
            "text/plain": "Model(workspace=Workspace.create(name='SkynetML', subscription_id='17e15d04-6670-44fd-bf24-195e65650e31', resource_group='ML'), name=best_automl_model, id=best_automl_model:1, version=1, tags={}, properties={})"
          },
          "metadata": {}
        }
      ],
      "execution_count": 22,
      "metadata": {
        "gather": {
          "logged": 1632334138255
        },
        "jupyter": {
          "outputs_hidden": false,
          "source_hidden": false
        },
        "nteract": {
          "transient": {
            "deleting": false
          }
        }
      }
    },
    {
      "cell_type": "markdown",
      "source": [
        "## Model Deployment\n",
        "\n",
        "Remember you have to deploy only one of the two models you trained.. Perform the steps in the rest of this notebook only if you wish to deploy this model.\n",
        "\n",
        "TODO: In the cell below, register the model, create an inference config and deploy the model as a web service."
      ],
      "metadata": {}
    },
    {
      "cell_type": "code",
      "source": [],
      "outputs": [],
      "execution_count": null,
      "metadata": {
        "gather": {
          "logged": 1598431435189
        },
        "jupyter": {
          "outputs_hidden": false,
          "source_hidden": false
        },
        "nteract": {
          "transient": {
            "deleting": false
          }
        }
      }
    },
    {
      "cell_type": "markdown",
      "source": [
        "TODO: In the cell below, send a request to the web service you deployed to test it."
      ],
      "metadata": {
        "collapsed": true,
        "gather": {
          "logged": 1598431657736
        },
        "jupyter": {
          "outputs_hidden": false,
          "source_hidden": false
        },
        "nteract": {
          "transient": {
            "deleting": false
          }
        }
      }
    },
    {
      "cell_type": "code",
      "source": [],
      "outputs": [],
      "execution_count": null,
      "metadata": {
        "gather": {
          "logged": 1598432707604
        },
        "jupyter": {
          "outputs_hidden": false,
          "source_hidden": false
        },
        "nteract": {
          "transient": {
            "deleting": false
          }
        }
      }
    },
    {
      "cell_type": "markdown",
      "source": [
        "TODO: In the cell below, print the logs of the web service and delete the service"
      ],
      "metadata": {
        "collapsed": true,
        "gather": {
          "logged": 1598432765711
        },
        "jupyter": {
          "outputs_hidden": false,
          "source_hidden": false
        },
        "nteract": {
          "transient": {
            "deleting": false
          }
        }
      }
    },
    {
      "cell_type": "code",
      "source": [],
      "outputs": [],
      "execution_count": null,
      "metadata": {
        "jupyter": {
          "outputs_hidden": false,
          "source_hidden": false
        },
        "nteract": {
          "transient": {
            "deleting": false
          }
        }
      }
    }
  ],
  "metadata": {
    "kernel_info": {
      "name": "python3"
    },
    "kernelspec": {
      "name": "python3",
      "language": "python",
      "display_name": "Python 3"
    },
    "language_info": {
      "name": "python",
      "version": "3.6.9",
      "mimetype": "text/x-python",
      "codemirror_mode": {
        "name": "ipython",
        "version": 3
      },
      "pygments_lexer": "ipython3",
      "nbconvert_exporter": "python",
      "file_extension": ".py"
    },
    "nteract": {
      "version": "nteract-front-end@1.0.0"
    },
    "microsoft": {
      "host": {
        "AzureML": {
          "notebookHasBeenCompleted": true
        }
      }
    }
  },
  "nbformat": 4,
  "nbformat_minor": 2
}